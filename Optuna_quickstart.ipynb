{
  "cells": [
    {
      "cell_type": "markdown",
      "metadata": {
        "id": "bn67Tvic7gRb"
      },
      "source": [
        "# A Quick Introduction to Optuna\n",
        "\n",
        "This Jupyter notebook goes through the basic usage of Optuna.\n",
        "\n",
        "- Install Optuna\n",
        "- Write a training algorithm that involves hyperparameters\n",
        "  - Read train/valid data\n",
        "  - Define and train model\n",
        "  - Evaluate model\n",
        "- Use Optuna to tune the hyperparameters (hyperparameter optimization, HPO)\n",
        "- Visualize HPO"
      ]
    },
    {
      "cell_type": "markdown",
      "metadata": {
        "id": "XARatKC77gRk"
      },
      "source": [
        "## Install `optuna`\n",
        "\n",
        "Optuna can be installed via `pip` or `conda`."
      ]
    },
    {
      "cell_type": "code",
      "execution_count": 1,
      "metadata": {
        "id": "z_WlwzO87gRl",
        "outputId": "8a75eb4b-1b6c-4106-b4b4-208b6728a691",
        "colab": {
          "base_uri": "https://localhost:8080/"
        }
      },
      "outputs": [
        {
          "output_type": "stream",
          "name": "stdout",
          "text": [
            "\u001b[2K     \u001b[90m━━━━━━━━━━━━━━━━━━━━━━━━━━━━━━━━━━━━━━━\u001b[0m \u001b[32m365.7/365.7 kB\u001b[0m \u001b[31m4.5 MB/s\u001b[0m eta \u001b[36m0:00:00\u001b[0m\n",
            "\u001b[2K     \u001b[90m━━━━━━━━━━━━━━━━━━━━━━━━━━━━━━━━━━━━━━\u001b[0m \u001b[32m212.9/212.9 kB\u001b[0m \u001b[31m11.9 MB/s\u001b[0m eta \u001b[36m0:00:00\u001b[0m\n",
            "\u001b[2K     \u001b[90m━━━━━━━━━━━━━━━━━━━━━━━━━━━━━━━━━━━━━━━━\u001b[0m \u001b[32m78.7/78.7 kB\u001b[0m \u001b[31m2.4 MB/s\u001b[0m eta \u001b[36m0:00:00\u001b[0m\n",
            "\u001b[?25h"
          ]
        }
      ],
      "source": [
        "!pip install --quiet optuna"
      ]
    },
    {
      "cell_type": "code",
      "execution_count": 2,
      "metadata": {
        "id": "VfP75rt97gRn",
        "outputId": "b97416c6-5610-48f8-eb87-065e822fb971",
        "colab": {
          "base_uri": "https://localhost:8080/",
          "height": 35
        }
      },
      "outputs": [
        {
          "output_type": "execute_result",
          "data": {
            "text/plain": [
              "'3.1.1'"
            ],
            "application/vnd.google.colaboratory.intrinsic+json": {
              "type": "string"
            }
          },
          "metadata": {},
          "execution_count": 2
        }
      ],
      "source": [
        "import optuna\n",
        "\n",
        "optuna.__version__"
      ]
    },
    {
      "cell_type": "markdown",
      "metadata": {
        "id": "DeYnTb8n7gRo"
      },
      "source": [
        "## Optimize Hyperparameters\n",
        "\n",
        "### Define a simple scikit-learn model\n",
        "\n",
        "We start with a simple random forest model to classify flowers in the Iris dataset. We define a function called `objective` that encapsulates the whole training process and outputs the accuracy of the model."
      ]
    },
    {
      "cell_type": "code",
      "execution_count": 3,
      "metadata": {
        "id": "kurZSgyF7gRp",
        "outputId": "94ba9034-4433-40bf-c760-91b8cfce577d",
        "colab": {
          "base_uri": "https://localhost:8080/"
        }
      },
      "outputs": [
        {
          "output_type": "stream",
          "name": "stdout",
          "text": [
            "Accuracy: 0.9466666666666667\n"
          ]
        }
      ],
      "source": [
        "import sklearn.datasets\n",
        "import sklearn.ensemble\n",
        "import sklearn.model_selection\n",
        "\n",
        "def objective():\n",
        "    iris = sklearn.datasets.load_iris()  # Prepare the data.\n",
        "    \n",
        "    clf = sklearn.ensemble.RandomForestClassifier(    \n",
        "        n_estimators=5, max_depth=3)  # Define the model.\n",
        "    \n",
        "    return sklearn.model_selection.cross_val_score(\n",
        "        clf, iris.data, iris.target, n_jobs=-1, cv=3).mean()  # Train and evaluate the model.\n",
        "\n",
        "print('Accuracy: {}'.format(objective()))"
      ]
    },
    {
      "cell_type": "markdown",
      "metadata": {
        "id": "ofrTJjz27gRp"
      },
      "source": [
        "### Optimize hyperparameters of the model\n",
        "\n",
        "The hyperparameters of the above algorithm are `n_estimators` and `max_depth` for which we can try different values to see if the model accuracy can be improved. The `objective` function is modified to accept a trial object. This trial has several methods for sampling hyperparameters. We create a study to run the hyperparameter optimization and finally read the best hyperparameters."
      ]
    },
    {
      "cell_type": "code",
      "execution_count": 4,
      "metadata": {
        "id": "L1fV4Tzn7gRq",
        "outputId": "0f0e06b8-a08c-4e33-d936-b8bfc7005415",
        "colab": {
          "base_uri": "https://localhost:8080/"
        }
      },
      "outputs": [
        {
          "output_type": "stream",
          "name": "stderr",
          "text": [
            "\u001b[32m[I 2023-05-15 15:02:19,472]\u001b[0m A new study created in memory with name: no-name-aa0c6745-f783-4588-b7f1-68564e2efec8\u001b[0m\n",
            "\u001b[32m[I 2023-05-15 15:02:19,540]\u001b[0m Trial 0 finished with value: 0.9666666666666667 and parameters: {'n_estimators': 12, 'max_depth': 2.36862128058673}. Best is trial 0 with value: 0.9666666666666667.\u001b[0m\n",
            "\u001b[32m[I 2023-05-15 15:02:19,599]\u001b[0m Trial 1 finished with value: 0.9466666666666667 and parameters: {'n_estimators': 10, 'max_depth': 27.55807606323762}. Best is trial 0 with value: 0.9666666666666667.\u001b[0m\n",
            "\u001b[32m[I 2023-05-15 15:02:19,687]\u001b[0m Trial 2 finished with value: 0.9533333333333333 and parameters: {'n_estimators': 18, 'max_depth': 3.651223368412711}. Best is trial 0 with value: 0.9666666666666667.\u001b[0m\n",
            "\u001b[32m[I 2023-05-15 15:02:19,756]\u001b[0m Trial 3 finished with value: 0.9666666666666667 and parameters: {'n_estimators': 11, 'max_depth': 3.4533331396998808}. Best is trial 0 with value: 0.9666666666666667.\u001b[0m\n",
            "\u001b[32m[I 2023-05-15 15:02:19,837]\u001b[0m Trial 4 finished with value: 0.9466666666666667 and parameters: {'n_estimators': 6, 'max_depth': 8.829620204543225}. Best is trial 0 with value: 0.9666666666666667.\u001b[0m\n",
            "\u001b[32m[I 2023-05-15 15:02:19,963]\u001b[0m Trial 5 finished with value: 0.96 and parameters: {'n_estimators': 18, 'max_depth': 8.699975165172411}. Best is trial 0 with value: 0.9666666666666667.\u001b[0m\n",
            "\u001b[32m[I 2023-05-15 15:02:20,075]\u001b[0m Trial 6 finished with value: 0.7533333333333334 and parameters: {'n_estimators': 11, 'max_depth': 1.7892870937427574}. Best is trial 0 with value: 0.9666666666666667.\u001b[0m\n",
            "\u001b[32m[I 2023-05-15 15:02:20,204]\u001b[0m Trial 7 finished with value: 0.9533333333333333 and parameters: {'n_estimators': 15, 'max_depth': 3.065540633819373}. Best is trial 0 with value: 0.9666666666666667.\u001b[0m\n",
            "\u001b[32m[I 2023-05-15 15:02:20,280]\u001b[0m Trial 8 finished with value: 0.96 and parameters: {'n_estimators': 14, 'max_depth': 16.889251517457275}. Best is trial 0 with value: 0.9666666666666667.\u001b[0m\n",
            "\u001b[32m[I 2023-05-15 15:02:20,356]\u001b[0m Trial 9 finished with value: 0.96 and parameters: {'n_estimators': 15, 'max_depth': 3.2539880724394714}. Best is trial 0 with value: 0.9666666666666667.\u001b[0m\n",
            "\u001b[32m[I 2023-05-15 15:02:20,394]\u001b[0m Trial 10 finished with value: 0.7466666666666667 and parameters: {'n_estimators': 3, 'max_depth': 1.0717689644388648}. Best is trial 0 with value: 0.9666666666666667.\u001b[0m\n",
            "\u001b[32m[I 2023-05-15 15:02:20,446]\u001b[0m Trial 11 finished with value: 0.82 and parameters: {'n_estimators': 7, 'max_depth': 1.9495560641091214}. Best is trial 0 with value: 0.9666666666666667.\u001b[0m\n",
            "\u001b[32m[I 2023-05-15 15:02:20,504]\u001b[0m Trial 12 finished with value: 0.9666666666666667 and parameters: {'n_estimators': 8, 'max_depth': 5.069573090520381}. Best is trial 0 with value: 0.9666666666666667.\u001b[0m\n",
            "\u001b[32m[I 2023-05-15 15:02:20,587]\u001b[0m Trial 13 finished with value: 0.94 and parameters: {'n_estimators': 13, 'max_depth': 2.0846607079162545}. Best is trial 0 with value: 0.9666666666666667.\u001b[0m\n",
            "\u001b[32m[I 2023-05-15 15:02:20,656]\u001b[0m Trial 14 finished with value: 0.7266666666666667 and parameters: {'n_estimators': 10, 'max_depth': 1.1562526890372702}. Best is trial 0 with value: 0.9666666666666667.\u001b[0m\n",
            "\u001b[32m[I 2023-05-15 15:02:20,690]\u001b[0m Trial 15 finished with value: 0.94 and parameters: {'n_estimators': 2, 'max_depth': 5.400456365771463}. Best is trial 0 with value: 0.9666666666666667.\u001b[0m\n",
            "\u001b[32m[I 2023-05-15 15:02:20,762]\u001b[0m Trial 16 finished with value: 0.9533333333333333 and parameters: {'n_estimators': 12, 'max_depth': 2.593046417148301}. Best is trial 0 with value: 0.9666666666666667.\u001b[0m\n",
            "\u001b[32m[I 2023-05-15 15:02:20,877]\u001b[0m Trial 17 finished with value: 0.9466666666666667 and parameters: {'n_estimators': 20, 'max_depth': 1.532869329648493}. Best is trial 0 with value: 0.9666666666666667.\u001b[0m\n",
            "\u001b[32m[I 2023-05-15 15:02:20,922]\u001b[0m Trial 18 finished with value: 0.96 and parameters: {'n_estimators': 5, 'max_depth': 4.021606112022872}. Best is trial 0 with value: 0.9666666666666667.\u001b[0m\n",
            "\u001b[32m[I 2023-05-15 15:02:20,987]\u001b[0m Trial 19 finished with value: 0.94 and parameters: {'n_estimators': 8, 'max_depth': 2.522616739499855}. Best is trial 0 with value: 0.9666666666666667.\u001b[0m\n",
            "\u001b[32m[I 2023-05-15 15:02:21,124]\u001b[0m Trial 20 finished with value: 0.86 and parameters: {'n_estimators': 17, 'max_depth': 1.446041153100588}. Best is trial 0 with value: 0.9666666666666667.\u001b[0m\n",
            "\u001b[32m[I 2023-05-15 15:02:21,240]\u001b[0m Trial 21 finished with value: 0.9466666666666667 and parameters: {'n_estimators': 9, 'max_depth': 4.847507843273097}. Best is trial 0 with value: 0.9666666666666667.\u001b[0m\n",
            "\u001b[32m[I 2023-05-15 15:02:21,380]\u001b[0m Trial 22 finished with value: 0.9466666666666667 and parameters: {'n_estimators': 12, 'max_depth': 6.776155812888996}. Best is trial 0 with value: 0.9666666666666667.\u001b[0m\n",
            "\u001b[32m[I 2023-05-15 15:02:21,443]\u001b[0m Trial 23 finished with value: 0.9533333333333333 and parameters: {'n_estimators': 8, 'max_depth': 2.6458365768954715}. Best is trial 0 with value: 0.9666666666666667.\u001b[0m\n",
            "\u001b[32m[I 2023-05-15 15:02:21,491]\u001b[0m Trial 24 finished with value: 0.9533333333333333 and parameters: {'n_estimators': 5, 'max_depth': 4.064409193494735}. Best is trial 0 with value: 0.9666666666666667.\u001b[0m\n",
            "\u001b[32m[I 2023-05-15 15:02:21,564]\u001b[0m Trial 25 finished with value: 0.9666666666666667 and parameters: {'n_estimators': 10, 'max_depth': 6.280914336387052}. Best is trial 0 with value: 0.9666666666666667.\u001b[0m\n",
            "\u001b[32m[I 2023-05-15 15:02:21,638]\u001b[0m Trial 26 finished with value: 0.96 and parameters: {'n_estimators': 12, 'max_depth': 4.248622479339972}. Best is trial 0 with value: 0.9666666666666667.\u001b[0m\n",
            "\u001b[32m[I 2023-05-15 15:02:21,700]\u001b[0m Trial 27 finished with value: 0.96 and parameters: {'n_estimators': 9, 'max_depth': 2.2738602464956426}. Best is trial 0 with value: 0.9666666666666667.\u001b[0m\n",
            "\u001b[32m[I 2023-05-15 15:02:21,788]\u001b[0m Trial 28 finished with value: 0.9533333333333333 and parameters: {'n_estimators': 16, 'max_depth': 3.1492832058804985}. Best is trial 0 with value: 0.9666666666666667.\u001b[0m\n",
            "\u001b[32m[I 2023-05-15 15:02:21,879]\u001b[0m Trial 29 finished with value: 0.96 and parameters: {'n_estimators': 11, 'max_depth': 5.5886167178856505}. Best is trial 0 with value: 0.9666666666666667.\u001b[0m\n",
            "\u001b[32m[I 2023-05-15 15:02:21,956]\u001b[0m Trial 30 finished with value: 0.94 and parameters: {'n_estimators': 13, 'max_depth': 3.082856008882366}. Best is trial 0 with value: 0.9666666666666667.\u001b[0m\n",
            "\u001b[32m[I 2023-05-15 15:02:22,022]\u001b[0m Trial 31 finished with value: 0.96 and parameters: {'n_estimators': 10, 'max_depth': 6.813743956981332}. Best is trial 0 with value: 0.9666666666666667.\u001b[0m\n",
            "\u001b[32m[I 2023-05-15 15:02:22,084]\u001b[0m Trial 32 finished with value: 0.96 and parameters: {'n_estimators': 9, 'max_depth': 4.502211519258435}. Best is trial 0 with value: 0.9666666666666667.\u001b[0m\n",
            "\u001b[32m[I 2023-05-15 15:02:22,141]\u001b[0m Trial 33 finished with value: 0.9466666666666667 and parameters: {'n_estimators': 7, 'max_depth': 3.58017380545915}. Best is trial 0 with value: 0.9666666666666667.\u001b[0m\n",
            "\u001b[32m[I 2023-05-15 15:02:22,207]\u001b[0m Trial 34 finished with value: 0.96 and parameters: {'n_estimators': 10, 'max_depth': 9.730950306017274}. Best is trial 0 with value: 0.9666666666666667.\u001b[0m\n",
            "\u001b[32m[I 2023-05-15 15:02:22,257]\u001b[0m Trial 35 finished with value: 0.96 and parameters: {'n_estimators': 6, 'max_depth': 6.8190537901284936}. Best is trial 0 with value: 0.9666666666666667.\u001b[0m\n",
            "\u001b[32m[I 2023-05-15 15:02:22,329]\u001b[0m Trial 36 finished with value: 0.9666666666666667 and parameters: {'n_estimators': 11, 'max_depth': 4.839289616470084}. Best is trial 0 with value: 0.9666666666666667.\u001b[0m\n",
            "\u001b[32m[I 2023-05-15 15:02:22,422]\u001b[0m Trial 37 finished with value: 0.94 and parameters: {'n_estimators': 14, 'max_depth': 11.039706892642304}. Best is trial 0 with value: 0.9666666666666667.\u001b[0m\n",
            "\u001b[32m[I 2023-05-15 15:02:22,478]\u001b[0m Trial 38 finished with value: 0.9466666666666667 and parameters: {'n_estimators': 8, 'max_depth': 3.7846461806923837}. Best is trial 0 with value: 0.9666666666666667.\u001b[0m\n",
            "\u001b[32m[I 2023-05-15 15:02:22,555]\u001b[0m Trial 39 finished with value: 0.96 and parameters: {'n_estimators': 13, 'max_depth': 2.7889652052509146}. Best is trial 0 with value: 0.9666666666666667.\u001b[0m\n",
            "\u001b[32m[I 2023-05-15 15:02:22,622]\u001b[0m Trial 40 finished with value: 0.9666666666666667 and parameters: {'n_estimators': 10, 'max_depth': 3.583229148803361}. Best is trial 0 with value: 0.9666666666666667.\u001b[0m\n",
            "\u001b[32m[I 2023-05-15 15:02:22,692]\u001b[0m Trial 41 finished with value: 0.9666666666666667 and parameters: {'n_estimators': 11, 'max_depth': 5.021851203401952}. Best is trial 0 with value: 0.9666666666666667.\u001b[0m\n",
            "\u001b[32m[I 2023-05-15 15:02:22,762]\u001b[0m Trial 42 finished with value: 0.9533333333333333 and parameters: {'n_estimators': 11, 'max_depth': 6.0428111749204385}. Best is trial 0 with value: 0.9666666666666667.\u001b[0m\n",
            "\u001b[32m[I 2023-05-15 15:02:22,834]\u001b[0m Trial 43 finished with value: 0.96 and parameters: {'n_estimators': 12, 'max_depth': 4.813681007051252}. Best is trial 0 with value: 0.9666666666666667.\u001b[0m\n",
            "\u001b[32m[I 2023-05-15 15:02:22,927]\u001b[0m Trial 44 finished with value: 0.9666666666666667 and parameters: {'n_estimators': 14, 'max_depth': 7.715335515613386}. Best is trial 0 with value: 0.9666666666666667.\u001b[0m\n",
            "\u001b[32m[I 2023-05-15 15:02:22,990]\u001b[0m Trial 45 finished with value: 0.96 and parameters: {'n_estimators': 9, 'max_depth': 3.355907096353957}. Best is trial 0 with value: 0.9666666666666667.\u001b[0m\n",
            "\u001b[32m[I 2023-05-15 15:02:23,054]\u001b[0m Trial 46 finished with value: 0.9666666666666667 and parameters: {'n_estimators': 7, 'max_depth': 5.912417094720287}. Best is trial 0 with value: 0.9666666666666667.\u001b[0m\n",
            "\u001b[32m[I 2023-05-15 15:02:23,214]\u001b[0m Trial 47 finished with value: 0.96 and parameters: {'n_estimators': 13, 'max_depth': 2.2586880038573334}. Best is trial 0 with value: 0.9666666666666667.\u001b[0m\n",
            "\u001b[32m[I 2023-05-15 15:02:23,431]\u001b[0m Trial 48 finished with value: 0.96 and parameters: {'n_estimators': 15, 'max_depth': 4.534183972021361}. Best is trial 0 with value: 0.9666666666666667.\u001b[0m\n",
            "\u001b[32m[I 2023-05-15 15:02:23,599]\u001b[0m Trial 49 finished with value: 0.86 and parameters: {'n_estimators': 11, 'max_depth': 1.7668280725211423}. Best is trial 0 with value: 0.9666666666666667.\u001b[0m\n",
            "\u001b[32m[I 2023-05-15 15:02:23,736]\u001b[0m Trial 50 finished with value: 0.94 and parameters: {'n_estimators': 4, 'max_depth': 2.9085947367030376}. Best is trial 0 with value: 0.9666666666666667.\u001b[0m\n",
            "\u001b[32m[I 2023-05-15 15:02:23,861]\u001b[0m Trial 51 finished with value: 0.96 and parameters: {'n_estimators': 10, 'max_depth': 3.517253255754402}. Best is trial 0 with value: 0.9666666666666667.\u001b[0m\n",
            "\u001b[32m[I 2023-05-15 15:02:23,988]\u001b[0m Trial 52 finished with value: 0.96 and parameters: {'n_estimators': 10, 'max_depth': 3.3753343074230315}. Best is trial 0 with value: 0.9666666666666667.\u001b[0m\n",
            "\u001b[32m[I 2023-05-15 15:02:24,098]\u001b[0m Trial 53 finished with value: 0.9666666666666667 and parameters: {'n_estimators': 8, 'max_depth': 3.981594055692069}. Best is trial 0 with value: 0.9666666666666667.\u001b[0m\n",
            "\u001b[32m[I 2023-05-15 15:02:24,232]\u001b[0m Trial 54 finished with value: 0.96 and parameters: {'n_estimators': 12, 'max_depth': 5.2242781520759225}. Best is trial 0 with value: 0.9666666666666667.\u001b[0m\n",
            "\u001b[32m[I 2023-05-15 15:02:24,360]\u001b[0m Trial 55 finished with value: 0.9533333333333333 and parameters: {'n_estimators': 10, 'max_depth': 4.374666124023363}. Best is trial 0 with value: 0.9666666666666667.\u001b[0m\n",
            "\u001b[32m[I 2023-05-15 15:02:24,475]\u001b[0m Trial 56 finished with value: 0.9666666666666667 and parameters: {'n_estimators': 9, 'max_depth': 3.824570094792855}. Best is trial 0 with value: 0.9666666666666667.\u001b[0m\n",
            "\u001b[32m[I 2023-05-15 15:02:24,565]\u001b[0m Trial 57 finished with value: 0.9533333333333333 and parameters: {'n_estimators': 6, 'max_depth': 2.5261966202242228}. Best is trial 0 with value: 0.9666666666666667.\u001b[0m\n",
            "\u001b[32m[I 2023-05-15 15:02:24,692]\u001b[0m Trial 58 finished with value: 0.9466666666666667 and parameters: {'n_estimators': 11, 'max_depth': 2.9655423087503765}. Best is trial 0 with value: 0.9666666666666667.\u001b[0m\n",
            "\u001b[32m[I 2023-05-15 15:02:24,843]\u001b[0m Trial 59 finished with value: 0.9533333333333333 and parameters: {'n_estimators': 14, 'max_depth': 5.05298580760028}. Best is trial 0 with value: 0.9666666666666667.\u001b[0m\n",
            "\u001b[32m[I 2023-05-15 15:02:24,962]\u001b[0m Trial 60 finished with value: 0.9666666666666667 and parameters: {'n_estimators': 12, 'max_depth': 4.128955093372751}. Best is trial 0 with value: 0.9666666666666667.\u001b[0m\n",
            "\u001b[32m[I 2023-05-15 15:02:25,082]\u001b[0m Trial 61 finished with value: 0.9666666666666667 and parameters: {'n_estimators': 11, 'max_depth': 5.143085831912691}. Best is trial 0 with value: 0.9666666666666667.\u001b[0m\n",
            "\u001b[32m[I 2023-05-15 15:02:25,193]\u001b[0m Trial 62 finished with value: 0.9533333333333333 and parameters: {'n_estimators': 8, 'max_depth': 6.0222578391546575}. Best is trial 0 with value: 0.9666666666666667.\u001b[0m\n",
            "\u001b[32m[I 2023-05-15 15:02:25,337]\u001b[0m Trial 63 finished with value: 0.96 and parameters: {'n_estimators': 13, 'max_depth': 4.629885482217986}. Best is trial 0 with value: 0.9666666666666667.\u001b[0m\n",
            "\u001b[32m[I 2023-05-15 15:02:25,448]\u001b[0m Trial 64 finished with value: 0.9666666666666667 and parameters: {'n_estimators': 9, 'max_depth': 3.6228338332456724}. Best is trial 0 with value: 0.9666666666666667.\u001b[0m\n",
            "\u001b[32m[I 2023-05-15 15:02:25,587]\u001b[0m Trial 65 finished with value: 0.9533333333333333 and parameters: {'n_estimators': 12, 'max_depth': 5.367303668813876}. Best is trial 0 with value: 0.9666666666666667.\u001b[0m\n",
            "\u001b[32m[I 2023-05-15 15:02:25,709]\u001b[0m Trial 66 finished with value: 0.9533333333333333 and parameters: {'n_estimators': 10, 'max_depth': 3.2672851517433994}. Best is trial 0 with value: 0.9666666666666667.\u001b[0m\n",
            "\u001b[32m[I 2023-05-15 15:02:25,815]\u001b[0m Trial 67 finished with value: 0.9666666666666667 and parameters: {'n_estimators': 11, 'max_depth': 4.277344812473858}. Best is trial 0 with value: 0.9666666666666667.\u001b[0m\n",
            "\u001b[32m[I 2023-05-15 15:02:25,933]\u001b[0m Trial 68 finished with value: 0.9466666666666667 and parameters: {'n_estimators': 7, 'max_depth': 2.859094827064097}. Best is trial 0 with value: 0.9666666666666667.\u001b[0m\n",
            "\u001b[32m[I 2023-05-15 15:02:26,059]\u001b[0m Trial 69 finished with value: 0.9666666666666667 and parameters: {'n_estimators': 11, 'max_depth': 6.360974740468051}. Best is trial 0 with value: 0.9666666666666667.\u001b[0m\n",
            "\u001b[32m[I 2023-05-15 15:02:26,156]\u001b[0m Trial 70 finished with value: 0.96 and parameters: {'n_estimators': 10, 'max_depth': 5.417680376735858}. Best is trial 0 with value: 0.9666666666666667.\u001b[0m\n",
            "\u001b[32m[I 2023-05-15 15:02:26,310]\u001b[0m Trial 71 finished with value: 0.96 and parameters: {'n_estimators': 14, 'max_depth': 7.605712626219581}. Best is trial 0 with value: 0.9666666666666667.\u001b[0m\n",
            "\u001b[32m[I 2023-05-15 15:02:26,483]\u001b[0m Trial 72 finished with value: 0.96 and parameters: {'n_estimators': 16, 'max_depth': 6.966368843559581}. Best is trial 0 with value: 0.9666666666666667.\u001b[0m\n",
            "\u001b[32m[I 2023-05-15 15:02:26,644]\u001b[0m Trial 73 finished with value: 0.9666666666666667 and parameters: {'n_estimators': 15, 'max_depth': 4.660031232093045}. Best is trial 0 with value: 0.9666666666666667.\u001b[0m\n",
            "\u001b[32m[I 2023-05-15 15:02:26,731]\u001b[0m Trial 74 finished with value: 0.9466666666666667 and parameters: {'n_estimators': 12, 'max_depth': 8.730252816875586}. Best is trial 0 with value: 0.9666666666666667.\u001b[0m\n",
            "\u001b[32m[I 2023-05-15 15:02:26,808]\u001b[0m Trial 75 finished with value: 0.9666666666666667 and parameters: {'n_estimators': 13, 'max_depth': 5.622266181971908}. Best is trial 0 with value: 0.9666666666666667.\u001b[0m\n",
            "\u001b[32m[I 2023-05-15 15:02:26,891]\u001b[0m Trial 76 finished with value: 0.9533333333333333 and parameters: {'n_estimators': 14, 'max_depth': 7.748623795931926}. Best is trial 0 with value: 0.9666666666666667.\u001b[0m\n",
            "\u001b[32m[I 2023-05-15 15:02:26,955]\u001b[0m Trial 77 finished with value: 0.9533333333333333 and parameters: {'n_estimators': 9, 'max_depth': 3.992320419885706}. Best is trial 0 with value: 0.9666666666666667.\u001b[0m\n",
            "\u001b[32m[I 2023-05-15 15:02:27,069]\u001b[0m Trial 78 finished with value: 0.96 and parameters: {'n_estimators': 18, 'max_depth': 4.94259115082159}. Best is trial 0 with value: 0.9666666666666667.\u001b[0m\n",
            "\u001b[32m[I 2023-05-15 15:02:27,141]\u001b[0m Trial 79 finished with value: 0.96 and parameters: {'n_estimators': 11, 'max_depth': 6.106955120250766}. Best is trial 0 with value: 0.9666666666666667.\u001b[0m\n",
            "\u001b[32m[I 2023-05-15 15:02:27,211]\u001b[0m Trial 80 finished with value: 0.9466666666666667 and parameters: {'n_estimators': 8, 'max_depth': 3.1533543636232575}. Best is trial 0 with value: 0.9666666666666667.\u001b[0m\n",
            "\u001b[32m[I 2023-05-15 15:02:27,318]\u001b[0m Trial 81 finished with value: 0.9666666666666667 and parameters: {'n_estimators': 20, 'max_depth': 5.626683310885077}. Best is trial 0 with value: 0.9666666666666667.\u001b[0m\n",
            "\u001b[32m[I 2023-05-15 15:02:27,374]\u001b[0m Trial 82 finished with value: 0.96 and parameters: {'n_estimators': 7, 'max_depth': 3.6681936734116394}. Best is trial 0 with value: 0.9666666666666667.\u001b[0m\n",
            "\u001b[32m[I 2023-05-15 15:02:27,420]\u001b[0m Trial 83 finished with value: 0.9666666666666667 and parameters: {'n_estimators': 5, 'max_depth': 6.33866567108128}. Best is trial 0 with value: 0.9666666666666667.\u001b[0m\n",
            "\u001b[32m[I 2023-05-15 15:02:27,477]\u001b[0m Trial 84 finished with value: 0.94 and parameters: {'n_estimators': 7, 'max_depth': 4.360255185649884}. Best is trial 0 with value: 0.9666666666666667.\u001b[0m\n",
            "\u001b[32m[I 2023-05-15 15:02:27,546]\u001b[0m Trial 85 finished with value: 0.9533333333333333 and parameters: {'n_estimators': 10, 'max_depth': 5.8539159761121855}. Best is trial 0 with value: 0.9666666666666667.\u001b[0m\n",
            "\u001b[32m[I 2023-05-15 15:02:27,631]\u001b[0m Trial 86 finished with value: 0.9666666666666667 and parameters: {'n_estimators': 13, 'max_depth': 4.766770843431745}. Best is trial 0 with value: 0.9666666666666667.\u001b[0m\n",
            "\u001b[32m[I 2023-05-15 15:02:27,705]\u001b[0m Trial 87 finished with value: 0.9666666666666667 and parameters: {'n_estimators': 12, 'max_depth': 7.318492443891544}. Best is trial 0 with value: 0.9666666666666667.\u001b[0m\n",
            "\u001b[32m[I 2023-05-15 15:02:27,770]\u001b[0m Trial 88 finished with value: 0.9666666666666667 and parameters: {'n_estimators': 9, 'max_depth': 6.668748146959709}. Best is trial 0 with value: 0.9666666666666667.\u001b[0m\n",
            "\u001b[32m[I 2023-05-15 15:02:27,821]\u001b[0m Trial 89 finished with value: 0.9466666666666667 and parameters: {'n_estimators': 6, 'max_depth': 8.04254713708221}. Best is trial 0 with value: 0.9666666666666667.\u001b[0m\n",
            "\u001b[32m[I 2023-05-15 15:02:27,881]\u001b[0m Trial 90 finished with value: 0.96 and parameters: {'n_estimators': 8, 'max_depth': 3.8553677476459307}. Best is trial 0 with value: 0.9666666666666667.\u001b[0m\n",
            "\u001b[32m[I 2023-05-15 15:02:27,942]\u001b[0m Trial 91 finished with value: 0.9533333333333333 and parameters: {'n_estimators': 8, 'max_depth': 4.037980212772294}. Best is trial 0 with value: 0.9666666666666667.\u001b[0m\n",
            "\u001b[32m[I 2023-05-15 15:02:28,012]\u001b[0m Trial 92 finished with value: 0.9533333333333333 and parameters: {'n_estimators': 9, 'max_depth': 5.019921062176792}. Best is trial 0 with value: 0.9666666666666667.\u001b[0m\n",
            "\u001b[32m[I 2023-05-15 15:02:28,089]\u001b[0m Trial 93 finished with value: 0.9466666666666667 and parameters: {'n_estimators': 10, 'max_depth': 3.53389246066097}. Best is trial 0 with value: 0.9666666666666667.\u001b[0m\n",
            "\u001b[32m[I 2023-05-15 15:02:28,144]\u001b[0m Trial 94 finished with value: 0.96 and parameters: {'n_estimators': 7, 'max_depth': 4.191633514525109}. Best is trial 0 with value: 0.9666666666666667.\u001b[0m\n",
            "\u001b[32m[I 2023-05-15 15:02:28,196]\u001b[0m Trial 95 finished with value: 0.96 and parameters: {'n_estimators': 6, 'max_depth': 4.517908339602237}. Best is trial 0 with value: 0.9666666666666667.\u001b[0m\n",
            "\u001b[32m[I 2023-05-15 15:02:28,272]\u001b[0m Trial 96 finished with value: 0.9666666666666667 and parameters: {'n_estimators': 8, 'max_depth': 5.73152493673127}. Best is trial 0 with value: 0.9666666666666667.\u001b[0m\n",
            "\u001b[32m[I 2023-05-15 15:02:28,422]\u001b[0m Trial 97 finished with value: 0.9666666666666667 and parameters: {'n_estimators': 11, 'max_depth': 3.2105119010541445}. Best is trial 0 with value: 0.9666666666666667.\u001b[0m\n",
            "\u001b[32m[I 2023-05-15 15:02:28,547]\u001b[0m Trial 98 finished with value: 0.9533333333333333 and parameters: {'n_estimators': 12, 'max_depth': 5.177688139146671}. Best is trial 0 with value: 0.9666666666666667.\u001b[0m\n",
            "\u001b[32m[I 2023-05-15 15:02:28,666]\u001b[0m Trial 99 finished with value: 0.96 and parameters: {'n_estimators': 10, 'max_depth': 2.6892796573032354}. Best is trial 0 with value: 0.9666666666666667.\u001b[0m\n"
          ]
        },
        {
          "output_type": "stream",
          "name": "stdout",
          "text": [
            "Accuracy: 0.9666666666666667\n",
            "Best hyperparameters: {'n_estimators': 12, 'max_depth': 2.36862128058673}\n"
          ]
        }
      ],
      "source": [
        "import optuna\n",
        "\n",
        "def objective(trial):\n",
        "    iris = sklearn.datasets.load_iris()\n",
        "    \n",
        "    n_estimators = trial.suggest_int('n_estimators', 2, 20)\n",
        "    max_depth = int(trial.suggest_float('max_depth', 1, 32, log=True))\n",
        "    \n",
        "    clf = sklearn.ensemble.RandomForestClassifier(\n",
        "        n_estimators=n_estimators, max_depth=max_depth)\n",
        "    \n",
        "    return sklearn.model_selection.cross_val_score(\n",
        "        clf, iris.data, iris.target, n_jobs=-1, cv=3).mean()\n",
        "\n",
        "study = optuna.create_study(direction='maximize')\n",
        "study.optimize(objective, n_trials=100)\n",
        "\n",
        "trial = study.best_trial\n",
        "\n",
        "print('Accuracy: {}'.format(trial.value))\n",
        "print(\"Best hyperparameters: {}\".format(trial.params))"
      ]
    },
    {
      "cell_type": "markdown",
      "metadata": {
        "id": "AeGjdru47gRr"
      },
      "source": [
        "It is possible to condition hyperparameters using Python `if` statements. We can for instance include another classifier, a support vector machine, in our HPO and define hyperparameters specific to the random forest model and the support vector machine."
      ]
    },
    {
      "cell_type": "code",
      "execution_count": 5,
      "metadata": {
        "id": "4qdlDJEn7gRr",
        "outputId": "4ef8051e-fbde-46ad-d767-a3e18ef75a8a",
        "colab": {
          "base_uri": "https://localhost:8080/"
        }
      },
      "outputs": [
        {
          "output_type": "stream",
          "name": "stderr",
          "text": [
            "\u001b[32m[I 2023-05-15 15:02:28,706]\u001b[0m A new study created in memory with name: no-name-b75b8374-8496-409c-8cb2-640f3d613d8f\u001b[0m\n",
            "\u001b[32m[I 2023-05-15 15:02:28,735]\u001b[0m Trial 0 finished with value: 0.32 and parameters: {'classifier': 'SVC', 'svc_c': 1.566942283208742e-05}. Best is trial 0 with value: 0.32.\u001b[0m\n",
            "\u001b[32m[I 2023-05-15 15:02:28,768]\u001b[0m Trial 1 finished with value: 0.32 and parameters: {'classifier': 'SVC', 'svc_c': 6.014786734533924e-09}. Best is trial 0 with value: 0.32.\u001b[0m\n",
            "\u001b[32m[I 2023-05-15 15:02:28,927]\u001b[0m Trial 2 finished with value: 0.96 and parameters: {'classifier': 'RandomForest', 'n_estimators': 18, 'max_depth': 15.048040635627752}. Best is trial 2 with value: 0.96.\u001b[0m\n",
            "\u001b[32m[I 2023-05-15 15:02:28,946]\u001b[0m Trial 3 finished with value: 0.96 and parameters: {'classifier': 'SVC', 'svc_c': 914025286.8936354}. Best is trial 2 with value: 0.96.\u001b[0m\n",
            "\u001b[32m[I 2023-05-15 15:02:28,970]\u001b[0m Trial 4 finished with value: 0.96 and parameters: {'classifier': 'SVC', 'svc_c': 39139.398272292325}. Best is trial 2 with value: 0.96.\u001b[0m\n",
            "\u001b[32m[I 2023-05-15 15:02:29,022]\u001b[0m Trial 5 finished with value: 0.94 and parameters: {'classifier': 'RandomForest', 'n_estimators': 2, 'max_depth': 24.148236972248696}. Best is trial 2 with value: 0.96.\u001b[0m\n",
            "\u001b[32m[I 2023-05-15 15:02:29,048]\u001b[0m Trial 6 finished with value: 0.96 and parameters: {'classifier': 'SVC', 'svc_c': 421999568.7868061}. Best is trial 2 with value: 0.96.\u001b[0m\n",
            "\u001b[32m[I 2023-05-15 15:02:29,086]\u001b[0m Trial 7 finished with value: 0.32 and parameters: {'classifier': 'SVC', 'svc_c': 1.0469610181087182e-07}. Best is trial 2 with value: 0.96.\u001b[0m\n",
            "\u001b[32m[I 2023-05-15 15:02:29,120]\u001b[0m Trial 8 finished with value: 0.32 and parameters: {'classifier': 'SVC', 'svc_c': 2.1553668306189383e-06}. Best is trial 2 with value: 0.96.\u001b[0m\n",
            "\u001b[32m[I 2023-05-15 15:02:29,151]\u001b[0m Trial 9 finished with value: 0.96 and parameters: {'classifier': 'SVC', 'svc_c': 0.46457534462343086}. Best is trial 2 with value: 0.96.\u001b[0m\n",
            "\u001b[32m[I 2023-05-15 15:02:29,328]\u001b[0m Trial 10 finished with value: 0.96 and parameters: {'classifier': 'RandomForest', 'n_estimators': 19, 'max_depth': 4.5988689706056265}. Best is trial 2 with value: 0.96.\u001b[0m\n",
            "\u001b[32m[I 2023-05-15 15:02:29,545]\u001b[0m Trial 11 finished with value: 0.8733333333333334 and parameters: {'classifier': 'RandomForest', 'n_estimators': 20, 'max_depth': 1.0460909213845584}. Best is trial 2 with value: 0.96.\u001b[0m\n",
            "\u001b[32m[I 2023-05-15 15:02:29,693]\u001b[0m Trial 12 finished with value: 0.9533333333333333 and parameters: {'classifier': 'RandomForest', 'n_estimators': 11, 'max_depth': 30.11528717626823}. Best is trial 2 with value: 0.96.\u001b[0m\n",
            "\u001b[32m[I 2023-05-15 15:02:29,839]\u001b[0m Trial 13 finished with value: 0.9533333333333333 and parameters: {'classifier': 'RandomForest', 'n_estimators': 13, 'max_depth': 10.765373340693216}. Best is trial 2 with value: 0.96.\u001b[0m\n",
            "\u001b[32m[I 2023-05-15 15:02:30,049]\u001b[0m Trial 14 finished with value: 0.94 and parameters: {'classifier': 'RandomForest', 'n_estimators': 14, 'max_depth': 8.23427294308399}. Best is trial 2 with value: 0.96.\u001b[0m\n",
            "\u001b[32m[I 2023-05-15 15:02:30,155]\u001b[0m Trial 15 finished with value: 0.9533333333333333 and parameters: {'classifier': 'RandomForest', 'n_estimators': 6, 'max_depth': 14.31613892745546}. Best is trial 2 with value: 0.96.\u001b[0m\n",
            "\u001b[32m[I 2023-05-15 15:02:30,231]\u001b[0m Trial 16 finished with value: 0.96 and parameters: {'classifier': 'SVC', 'svc_c': 735381626.203278}. Best is trial 2 with value: 0.96.\u001b[0m\n",
            "\u001b[32m[I 2023-05-15 15:02:30,364]\u001b[0m Trial 17 finished with value: 0.96 and parameters: {'classifier': 'RandomForest', 'n_estimators': 16, 'max_depth': 4.5341804973464885}. Best is trial 2 with value: 0.96.\u001b[0m\n",
            "\u001b[32m[I 2023-05-15 15:02:30,471]\u001b[0m Trial 18 finished with value: 0.94 and parameters: {'classifier': 'RandomForest', 'n_estimators': 8, 'max_depth': 17.899486531764893}. Best is trial 2 with value: 0.96.\u001b[0m\n",
            "\u001b[32m[I 2023-05-15 15:02:30,503]\u001b[0m Trial 19 finished with value: 0.96 and parameters: {'classifier': 'SVC', 'svc_c': 5247.320194224522}. Best is trial 2 with value: 0.96.\u001b[0m\n",
            "\u001b[32m[I 2023-05-15 15:02:30,536]\u001b[0m Trial 20 finished with value: 0.96 and parameters: {'classifier': 'SVC', 'svc_c': 1956764890.1662664}. Best is trial 2 with value: 0.96.\u001b[0m\n",
            "\u001b[32m[I 2023-05-15 15:02:30,587]\u001b[0m Trial 21 finished with value: 0.96 and parameters: {'classifier': 'SVC', 'svc_c': 100676.14091564609}. Best is trial 2 with value: 0.96.\u001b[0m\n",
            "\u001b[32m[I 2023-05-15 15:02:30,612]\u001b[0m Trial 22 finished with value: 0.96 and parameters: {'classifier': 'SVC', 'svc_c': 22847.07059847998}. Best is trial 2 with value: 0.96.\u001b[0m\n",
            "\u001b[32m[I 2023-05-15 15:02:30,642]\u001b[0m Trial 23 finished with value: 0.96 and parameters: {'classifier': 'SVC', 'svc_c': 2359146.8556335587}. Best is trial 2 with value: 0.96.\u001b[0m\n",
            "\u001b[32m[I 2023-05-15 15:02:30,669]\u001b[0m Trial 24 finished with value: 0.9666666666666667 and parameters: {'classifier': 'SVC', 'svc_c': 21.027536480886265}. Best is trial 24 with value: 0.9666666666666667.\u001b[0m\n",
            "\u001b[32m[I 2023-05-15 15:02:30,703]\u001b[0m Trial 25 finished with value: 0.98 and parameters: {'classifier': 'SVC', 'svc_c': 8.58032497250644}. Best is trial 25 with value: 0.98.\u001b[0m\n",
            "\u001b[32m[I 2023-05-15 15:02:30,932]\u001b[0m Trial 26 finished with value: 0.9733333333333333 and parameters: {'classifier': 'RandomForest', 'n_estimators': 17, 'max_depth': 7.350471851333009}. Best is trial 25 with value: 0.98.\u001b[0m\n",
            "\u001b[32m[I 2023-05-15 15:02:30,975]\u001b[0m Trial 27 finished with value: 0.9733333333333333 and parameters: {'classifier': 'SVC', 'svc_c': 3.0491224595800497}. Best is trial 25 with value: 0.98.\u001b[0m\n",
            "\u001b[32m[I 2023-05-15 15:02:31,113]\u001b[0m Trial 28 finished with value: 0.9466666666666667 and parameters: {'classifier': 'RandomForest', 'n_estimators': 11, 'max_depth': 2.4200027089991902}. Best is trial 25 with value: 0.98.\u001b[0m\n",
            "\u001b[32m[I 2023-05-15 15:02:31,159]\u001b[0m Trial 29 finished with value: 0.7466666666666667 and parameters: {'classifier': 'SVC', 'svc_c': 0.022209936510457808}. Best is trial 25 with value: 0.98.\u001b[0m\n",
            "\u001b[32m[I 2023-05-15 15:02:31,196]\u001b[0m Trial 30 finished with value: 0.32 and parameters: {'classifier': 'SVC', 'svc_c': 0.004735622977183138}. Best is trial 25 with value: 0.98.\u001b[0m\n",
            "\u001b[32m[I 2023-05-15 15:02:31,226]\u001b[0m Trial 31 finished with value: 0.9666666666666667 and parameters: {'classifier': 'SVC', 'svc_c': 27.09735684824187}. Best is trial 25 with value: 0.98.\u001b[0m\n",
            "\u001b[32m[I 2023-05-15 15:02:31,258]\u001b[0m Trial 32 finished with value: 0.9666666666666667 and parameters: {'classifier': 'SVC', 'svc_c': 26.06218391025341}. Best is trial 25 with value: 0.98.\u001b[0m\n",
            "\u001b[32m[I 2023-05-15 15:02:31,308]\u001b[0m Trial 33 finished with value: 0.96 and parameters: {'classifier': 'SVC', 'svc_c': 68.74169652140017}. Best is trial 25 with value: 0.98.\u001b[0m\n",
            "\u001b[32m[I 2023-05-15 15:02:31,360]\u001b[0m Trial 34 finished with value: 0.96 and parameters: {'classifier': 'SVC', 'svc_c': 0.2585430893696543}. Best is trial 25 with value: 0.98.\u001b[0m\n",
            "\u001b[32m[I 2023-05-15 15:02:31,396]\u001b[0m Trial 35 finished with value: 0.32 and parameters: {'classifier': 'SVC', 'svc_c': 0.0040403933125326965}. Best is trial 25 with value: 0.98.\u001b[0m\n",
            "\u001b[32m[I 2023-05-15 15:02:31,433]\u001b[0m Trial 36 finished with value: 0.9466666666666667 and parameters: {'classifier': 'SVC', 'svc_c': 259.3635775719723}. Best is trial 25 with value: 0.98.\u001b[0m\n",
            "\u001b[32m[I 2023-05-15 15:02:31,469]\u001b[0m Trial 37 finished with value: 0.9733333333333333 and parameters: {'classifier': 'SVC', 'svc_c': 1.100024866885923}. Best is trial 25 with value: 0.98.\u001b[0m\n",
            "\u001b[32m[I 2023-05-15 15:02:31,644]\u001b[0m Trial 38 finished with value: 0.9666666666666667 and parameters: {'classifier': 'RandomForest', 'n_estimators': 16, 'max_depth': 8.504195387553908}. Best is trial 25 with value: 0.98.\u001b[0m\n",
            "\u001b[32m[I 2023-05-15 15:02:31,695]\u001b[0m Trial 39 finished with value: 0.9666666666666667 and parameters: {'classifier': 'SVC', 'svc_c': 1.4118641351894963}. Best is trial 25 with value: 0.98.\u001b[0m\n",
            "\u001b[32m[I 2023-05-15 15:02:31,741]\u001b[0m Trial 40 finished with value: 0.32 and parameters: {'classifier': 'SVC', 'svc_c': 0.00016203424248005231}. Best is trial 25 with value: 0.98.\u001b[0m\n",
            "\u001b[32m[I 2023-05-15 15:02:31,791]\u001b[0m Trial 41 finished with value: 0.98 and parameters: {'classifier': 'SVC', 'svc_c': 5.050204044908384}. Best is trial 25 with value: 0.98.\u001b[0m\n",
            "\u001b[32m[I 2023-05-15 15:02:31,832]\u001b[0m Trial 42 finished with value: 0.9666666666666667 and parameters: {'classifier': 'SVC', 'svc_c': 0.8868694811156329}. Best is trial 25 with value: 0.98.\u001b[0m\n",
            "\u001b[32m[I 2023-05-15 15:02:31,883]\u001b[0m Trial 43 finished with value: 0.7666666666666666 and parameters: {'classifier': 'SVC', 'svc_c': 0.03339798417417267}. Best is trial 25 with value: 0.98.\u001b[0m\n",
            "\u001b[32m[I 2023-05-15 15:02:31,933]\u001b[0m Trial 44 finished with value: 0.96 and parameters: {'classifier': 'SVC', 'svc_c': 1316.1611658691397}. Best is trial 25 with value: 0.98.\u001b[0m\n",
            "\u001b[32m[I 2023-05-15 15:02:31,976]\u001b[0m Trial 45 finished with value: 0.9733333333333333 and parameters: {'classifier': 'SVC', 'svc_c': 2.7836682033449236}. Best is trial 25 with value: 0.98.\u001b[0m\n",
            "\u001b[32m[I 2023-05-15 15:02:32,094]\u001b[0m Trial 46 finished with value: 0.9666666666666667 and parameters: {'classifier': 'RandomForest', 'n_estimators': 7, 'max_depth': 5.921567526756637}. Best is trial 25 with value: 0.98.\u001b[0m\n",
            "\u001b[32m[I 2023-05-15 15:02:32,126]\u001b[0m Trial 47 finished with value: 0.96 and parameters: {'classifier': 'SVC', 'svc_c': 584.4333629329068}. Best is trial 25 with value: 0.98.\u001b[0m\n",
            "\u001b[32m[I 2023-05-15 15:02:32,180]\u001b[0m Trial 48 finished with value: 0.96 and parameters: {'classifier': 'RandomForest', 'n_estimators': 2, 'max_depth': 2.8086652250853947}. Best is trial 25 with value: 0.98.\u001b[0m\n",
            "\u001b[32m[I 2023-05-15 15:02:32,232]\u001b[0m Trial 49 finished with value: 0.32 and parameters: {'classifier': 'SVC', 'svc_c': 0.0009354536032866523}. Best is trial 25 with value: 0.98.\u001b[0m\n",
            "\u001b[32m[I 2023-05-15 15:02:32,368]\u001b[0m Trial 50 finished with value: 0.9666666666666667 and parameters: {'classifier': 'RandomForest', 'n_estimators': 17, 'max_depth': 31.72865613222137}. Best is trial 25 with value: 0.98.\u001b[0m\n",
            "\u001b[32m[I 2023-05-15 15:02:32,402]\u001b[0m Trial 51 finished with value: 0.9866666666666667 and parameters: {'classifier': 'SVC', 'svc_c': 4.618568509471278}. Best is trial 51 with value: 0.9866666666666667.\u001b[0m\n",
            "\u001b[32m[I 2023-05-15 15:02:32,436]\u001b[0m Trial 52 finished with value: 0.94 and parameters: {'classifier': 'SVC', 'svc_c': 0.08959294262020927}. Best is trial 51 with value: 0.9866666666666667.\u001b[0m\n",
            "\u001b[32m[I 2023-05-15 15:02:32,468]\u001b[0m Trial 53 finished with value: 0.9666666666666667 and parameters: {'classifier': 'SVC', 'svc_c': 19.355495401518727}. Best is trial 51 with value: 0.9866666666666667.\u001b[0m\n",
            "\u001b[32m[I 2023-05-15 15:02:32,504]\u001b[0m Trial 54 finished with value: 0.9733333333333333 and parameters: {'classifier': 'SVC', 'svc_c': 3.565841892564528}. Best is trial 51 with value: 0.9866666666666667.\u001b[0m\n",
            "\u001b[32m[I 2023-05-15 15:02:32,561]\u001b[0m Trial 55 finished with value: 0.9533333333333333 and parameters: {'classifier': 'SVC', 'svc_c': 0.13655972123256657}. Best is trial 51 with value: 0.9866666666666667.\u001b[0m\n",
            "\u001b[32m[I 2023-05-15 15:02:32,625]\u001b[0m Trial 56 finished with value: 0.9466666666666667 and parameters: {'classifier': 'SVC', 'svc_c': 194.5969954500463}. Best is trial 51 with value: 0.9866666666666667.\u001b[0m\n",
            "\u001b[32m[I 2023-05-15 15:02:32,792]\u001b[0m Trial 57 finished with value: 0.9466666666666667 and parameters: {'classifier': 'RandomForest', 'n_estimators': 14, 'max_depth': 11.560830933019414}. Best is trial 51 with value: 0.9866666666666667.\u001b[0m\n",
            "\u001b[32m[I 2023-05-15 15:02:32,836]\u001b[0m Trial 58 finished with value: 0.9866666666666667 and parameters: {'classifier': 'SVC', 'svc_c': 4.232935603551132}. Best is trial 51 with value: 0.9866666666666667.\u001b[0m\n",
            "\u001b[32m[I 2023-05-15 15:02:32,887]\u001b[0m Trial 59 finished with value: 0.98 and parameters: {'classifier': 'SVC', 'svc_c': 5.889836074057662}. Best is trial 51 with value: 0.9866666666666667.\u001b[0m\n",
            "\u001b[32m[I 2023-05-15 15:02:32,990]\u001b[0m Trial 60 finished with value: 0.96 and parameters: {'classifier': 'RandomForest', 'n_estimators': 9, 'max_depth': 20.600175369853275}. Best is trial 51 with value: 0.9866666666666667.\u001b[0m\n",
            "\u001b[32m[I 2023-05-15 15:02:33,025]\u001b[0m Trial 61 finished with value: 0.98 and parameters: {'classifier': 'SVC', 'svc_c': 8.374225656380311}. Best is trial 51 with value: 0.9866666666666667.\u001b[0m\n",
            "\u001b[32m[I 2023-05-15 15:02:33,073]\u001b[0m Trial 62 finished with value: 0.98 and parameters: {'classifier': 'SVC', 'svc_c': 8.508178180602561}. Best is trial 51 with value: 0.9866666666666667.\u001b[0m\n",
            "\u001b[32m[I 2023-05-15 15:02:33,110]\u001b[0m Trial 63 finished with value: 0.98 and parameters: {'classifier': 'SVC', 'svc_c': 7.190111573843267}. Best is trial 51 with value: 0.9866666666666667.\u001b[0m\n",
            "\u001b[32m[I 2023-05-15 15:02:33,146]\u001b[0m Trial 64 finished with value: 0.9533333333333333 and parameters: {'classifier': 'SVC', 'svc_c': 171.08341061224326}. Best is trial 51 with value: 0.9866666666666667.\u001b[0m\n",
            "\u001b[32m[I 2023-05-15 15:02:33,187]\u001b[0m Trial 65 finished with value: 0.96 and parameters: {'classifier': 'SVC', 'svc_c': 0.29394956894534313}. Best is trial 51 with value: 0.9866666666666667.\u001b[0m\n",
            "\u001b[32m[I 2023-05-15 15:02:33,278]\u001b[0m Trial 66 finished with value: 0.96 and parameters: {'classifier': 'SVC', 'svc_c': 46.202992795452865}. Best is trial 51 with value: 0.9866666666666667.\u001b[0m\n",
            "\u001b[32m[I 2023-05-15 15:02:33,317]\u001b[0m Trial 67 finished with value: 0.98 and parameters: {'classifier': 'SVC', 'svc_c': 6.553545906770879}. Best is trial 51 with value: 0.9866666666666667.\u001b[0m\n",
            "\u001b[32m[I 2023-05-15 15:02:33,356]\u001b[0m Trial 68 finished with value: 0.96 and parameters: {'classifier': 'SVC', 'svc_c': 4747.848390280833}. Best is trial 51 with value: 0.9866666666666667.\u001b[0m\n",
            "\u001b[32m[I 2023-05-15 15:02:33,396]\u001b[0m Trial 69 finished with value: 0.9666666666666667 and parameters: {'classifier': 'SVC', 'svc_c': 0.3986138716648342}. Best is trial 51 with value: 0.9866666666666667.\u001b[0m\n",
            "\u001b[32m[I 2023-05-15 15:02:33,433]\u001b[0m Trial 70 finished with value: 0.98 and parameters: {'classifier': 'SVC', 'svc_c': 8.1102426956045}. Best is trial 51 with value: 0.9866666666666667.\u001b[0m\n",
            "\u001b[32m[I 2023-05-15 15:02:33,465]\u001b[0m Trial 71 finished with value: 0.98 and parameters: {'classifier': 'SVC', 'svc_c': 9.230813842143817}. Best is trial 51 with value: 0.9866666666666667.\u001b[0m\n",
            "\u001b[32m[I 2023-05-15 15:02:33,499]\u001b[0m Trial 72 finished with value: 0.96 and parameters: {'classifier': 'SVC', 'svc_c': 65.65829504119657}. Best is trial 51 with value: 0.9866666666666667.\u001b[0m\n",
            "\u001b[32m[I 2023-05-15 15:02:33,552]\u001b[0m Trial 73 finished with value: 0.98 and parameters: {'classifier': 'SVC', 'svc_c': 5.018645294869272}. Best is trial 51 with value: 0.9866666666666667.\u001b[0m\n",
            "\u001b[32m[I 2023-05-15 15:02:33,594]\u001b[0m Trial 74 finished with value: 0.9733333333333333 and parameters: {'classifier': 'SVC', 'svc_c': 1.053997389050802}. Best is trial 51 with value: 0.9866666666666667.\u001b[0m\n",
            "\u001b[32m[I 2023-05-15 15:02:33,648]\u001b[0m Trial 75 finished with value: 0.7600000000000001 and parameters: {'classifier': 'SVC', 'svc_c': 0.03310376548590894}. Best is trial 51 with value: 0.9866666666666667.\u001b[0m\n",
            "\u001b[32m[I 2023-05-15 15:02:33,683]\u001b[0m Trial 76 finished with value: 0.96 and parameters: {'classifier': 'SVC', 'svc_c': 982.0692994616451}. Best is trial 51 with value: 0.9866666666666667.\u001b[0m\n",
            "\u001b[32m[I 2023-05-15 15:02:33,719]\u001b[0m Trial 77 finished with value: 0.96 and parameters: {'classifier': 'SVC', 'svc_c': 56.69768214282018}. Best is trial 51 with value: 0.9866666666666667.\u001b[0m\n",
            "\u001b[32m[I 2023-05-15 15:02:33,779]\u001b[0m Trial 78 finished with value: 0.96 and parameters: {'classifier': 'SVC', 'svc_c': 0.24104195751513358}. Best is trial 51 with value: 0.9866666666666667.\u001b[0m\n",
            "\u001b[32m[I 2023-05-15 15:02:33,821]\u001b[0m Trial 79 finished with value: 0.9733333333333333 and parameters: {'classifier': 'SVC', 'svc_c': 14.194144401987282}. Best is trial 51 with value: 0.9866666666666667.\u001b[0m\n",
            "\u001b[32m[I 2023-05-15 15:02:33,884]\u001b[0m Trial 80 finished with value: 0.9733333333333333 and parameters: {'classifier': 'SVC', 'svc_c': 1.7223427491591559}. Best is trial 51 with value: 0.9866666666666667.\u001b[0m\n",
            "\u001b[32m[I 2023-05-15 15:02:33,923]\u001b[0m Trial 81 finished with value: 0.98 and parameters: {'classifier': 'SVC', 'svc_c': 6.120204996342654}. Best is trial 51 with value: 0.9866666666666667.\u001b[0m\n",
            "\u001b[32m[I 2023-05-15 15:02:33,959]\u001b[0m Trial 82 finished with value: 0.96 and parameters: {'classifier': 'SVC', 'svc_c': 101.9397070812813}. Best is trial 51 with value: 0.9866666666666667.\u001b[0m\n",
            "\u001b[32m[I 2023-05-15 15:02:33,999]\u001b[0m Trial 83 finished with value: 0.9733333333333333 and parameters: {'classifier': 'SVC', 'svc_c': 14.124871645422814}. Best is trial 51 with value: 0.9866666666666667.\u001b[0m\n",
            "\u001b[32m[I 2023-05-15 15:02:34,039]\u001b[0m Trial 84 finished with value: 0.9466666666666667 and parameters: {'classifier': 'SVC', 'svc_c': 302.69081265438984}. Best is trial 51 with value: 0.9866666666666667.\u001b[0m\n",
            "\u001b[32m[I 2023-05-15 15:02:34,078]\u001b[0m Trial 85 finished with value: 0.9733333333333333 and parameters: {'classifier': 'SVC', 'svc_c': 1.024506743598082}. Best is trial 51 with value: 0.9866666666666667.\u001b[0m\n",
            "\u001b[32m[I 2023-05-15 15:02:34,116]\u001b[0m Trial 86 finished with value: 0.98 and parameters: {'classifier': 'SVC', 'svc_c': 5.648707424314007}. Best is trial 51 with value: 0.9866666666666667.\u001b[0m\n",
            "\u001b[32m[I 2023-05-15 15:02:34,158]\u001b[0m Trial 87 finished with value: 0.94 and parameters: {'classifier': 'SVC', 'svc_c': 0.10529687973945157}. Best is trial 51 with value: 0.9866666666666667.\u001b[0m\n",
            "\u001b[32m[I 2023-05-15 15:02:34,188]\u001b[0m Trial 88 finished with value: 0.96 and parameters: {'classifier': 'SVC', 'svc_c': 38.482009992772035}. Best is trial 51 with value: 0.9866666666666667.\u001b[0m\n",
            "\u001b[32m[I 2023-05-15 15:02:34,217]\u001b[0m Trial 89 finished with value: 0.9733333333333333 and parameters: {'classifier': 'SVC', 'svc_c': 2.6919904342389427}. Best is trial 51 with value: 0.9866666666666667.\u001b[0m\n",
            "\u001b[32m[I 2023-05-15 15:02:34,250]\u001b[0m Trial 90 finished with value: 0.9666666666666667 and parameters: {'classifier': 'SVC', 'svc_c': 0.8035338076908938}. Best is trial 51 with value: 0.9866666666666667.\u001b[0m\n",
            "\u001b[32m[I 2023-05-15 15:02:34,290]\u001b[0m Trial 91 finished with value: 0.9733333333333333 and parameters: {'classifier': 'SVC', 'svc_c': 12.904960427258546}. Best is trial 51 with value: 0.9866666666666667.\u001b[0m\n",
            "\u001b[32m[I 2023-05-15 15:02:34,338]\u001b[0m Trial 92 finished with value: 0.98 and parameters: {'classifier': 'SVC', 'svc_c': 5.509937164697761}. Best is trial 51 with value: 0.9866666666666667.\u001b[0m\n",
            "\u001b[32m[I 2023-05-15 15:02:34,388]\u001b[0m Trial 93 finished with value: 0.96 and parameters: {'classifier': 'SVC', 'svc_c': 112.39951073014687}. Best is trial 51 with value: 0.9866666666666667.\u001b[0m\n",
            "\u001b[32m[I 2023-05-15 15:02:34,442]\u001b[0m Trial 94 finished with value: 0.9666666666666667 and parameters: {'classifier': 'SVC', 'svc_c': 24.55614482833773}. Best is trial 51 with value: 0.9866666666666667.\u001b[0m\n",
            "\u001b[32m[I 2023-05-15 15:02:34,505]\u001b[0m Trial 95 finished with value: 0.9666666666666667 and parameters: {'classifier': 'SVC', 'svc_c': 0.6963521416216357}. Best is trial 51 with value: 0.9866666666666667.\u001b[0m\n",
            "\u001b[32m[I 2023-05-15 15:02:34,538]\u001b[0m Trial 96 finished with value: 0.9733333333333333 and parameters: {'classifier': 'SVC', 'svc_c': 2.8539788162029422}. Best is trial 51 with value: 0.9866666666666667.\u001b[0m\n",
            "\u001b[32m[I 2023-05-15 15:02:34,578]\u001b[0m Trial 97 finished with value: 0.9533333333333333 and parameters: {'classifier': 'SVC', 'svc_c': 481.7584231759223}. Best is trial 51 with value: 0.9866666666666667.\u001b[0m\n",
            "\u001b[32m[I 2023-05-15 15:02:34,619]\u001b[0m Trial 98 finished with value: 0.94 and parameters: {'classifier': 'SVC', 'svc_c': 0.06901597468629347}. Best is trial 51 with value: 0.9866666666666667.\u001b[0m\n",
            "\u001b[32m[I 2023-05-15 15:02:34,655]\u001b[0m Trial 99 finished with value: 0.96 and parameters: {'classifier': 'SVC', 'svc_c': 0.25216384859962204}. Best is trial 51 with value: 0.9866666666666667.\u001b[0m\n"
          ]
        },
        {
          "output_type": "stream",
          "name": "stdout",
          "text": [
            "Accuracy: 0.9866666666666667\n",
            "Best hyperparameters: {'classifier': 'SVC', 'svc_c': 4.618568509471278}\n"
          ]
        }
      ],
      "source": [
        "import sklearn.svm\n",
        "\n",
        "def objective(trial):\n",
        "    iris = sklearn.datasets.load_iris()\n",
        "\n",
        "    classifier = trial.suggest_categorical('classifier', ['RandomForest', 'SVC'])\n",
        "    \n",
        "    if classifier == 'RandomForest':\n",
        "        n_estimators = trial.suggest_int('n_estimators', 2, 20)\n",
        "        max_depth = int(trial.suggest_float('max_depth', 1, 32, log=True))\n",
        "\n",
        "        clf = sklearn.ensemble.RandomForestClassifier(\n",
        "            n_estimators=n_estimators, max_depth=max_depth)\n",
        "    else:\n",
        "        c = trial.suggest_float('svc_c', 1e-10, 1e10, log=True)\n",
        "        \n",
        "        clf = sklearn.svm.SVC(C=c, gamma='auto')\n",
        "\n",
        "    return sklearn.model_selection.cross_val_score(\n",
        "        clf, iris.data, iris.target, n_jobs=-1, cv=3).mean()\n",
        "\n",
        "study = optuna.create_study(direction='maximize')\n",
        "study.optimize(objective, n_trials=100)\n",
        "\n",
        "trial = study.best_trial\n",
        "\n",
        "print('Accuracy: {}'.format(trial.value))\n",
        "print(\"Best hyperparameters: {}\".format(trial.params))"
      ]
    },
    {
      "cell_type": "markdown",
      "metadata": {
        "id": "kGSS2bSw7gRs"
      },
      "source": [
        "### Plotting the study\n",
        "\n",
        "Plotting the optimization history of the study."
      ]
    },
    {
      "cell_type": "code",
      "execution_count": 6,
      "metadata": {
        "id": "1rAzBL8K7gRs",
        "outputId": "b024604d-b97b-425f-8930-64a8a3950a21",
        "colab": {
          "base_uri": "https://localhost:8080/",
          "height": 542
        }
      },
      "outputs": [
        {
          "output_type": "display_data",
          "data": {
            "text/html": [
              "<html>\n",
              "<head><meta charset=\"utf-8\" /></head>\n",
              "<body>\n",
              "    <div>            <script src=\"https://cdnjs.cloudflare.com/ajax/libs/mathjax/2.7.5/MathJax.js?config=TeX-AMS-MML_SVG\"></script><script type=\"text/javascript\">if (window.MathJax && window.MathJax.Hub && window.MathJax.Hub.Config) {window.MathJax.Hub.Config({SVG: {font: \"STIX-Web\"}});}</script>                <script type=\"text/javascript\">window.PlotlyConfig = {MathJaxConfig: 'local'};</script>\n",
              "        <script src=\"https://cdn.plot.ly/plotly-2.18.2.min.js\"></script>                <div id=\"a295e52b-8375-4d8e-a378-aedf9448c05b\" class=\"plotly-graph-div\" style=\"height:525px; width:100%;\"></div>            <script type=\"text/javascript\">                                    window.PLOTLYENV=window.PLOTLYENV || {};                                    if (document.getElementById(\"a295e52b-8375-4d8e-a378-aedf9448c05b\")) {                    Plotly.newPlot(                        \"a295e52b-8375-4d8e-a378-aedf9448c05b\",                        [{\"mode\":\"markers\",\"name\":\"Objective Value\",\"x\":[0,1,2,3,4,5,6,7,8,9,10,11,12,13,14,15,16,17,18,19,20,21,22,23,24,25,26,27,28,29,30,31,32,33,34,35,36,37,38,39,40,41,42,43,44,45,46,47,48,49,50,51,52,53,54,55,56,57,58,59,60,61,62,63,64,65,66,67,68,69,70,71,72,73,74,75,76,77,78,79,80,81,82,83,84,85,86,87,88,89,90,91,92,93,94,95,96,97,98,99],\"y\":[0.32,0.32,0.96,0.96,0.96,0.94,0.96,0.32,0.32,0.96,0.96,0.8733333333333334,0.9533333333333333,0.9533333333333333,0.94,0.9533333333333333,0.96,0.96,0.94,0.96,0.96,0.96,0.96,0.96,0.9666666666666667,0.98,0.9733333333333333,0.9733333333333333,0.9466666666666667,0.7466666666666667,0.32,0.9666666666666667,0.9666666666666667,0.96,0.96,0.32,0.9466666666666667,0.9733333333333333,0.9666666666666667,0.9666666666666667,0.32,0.98,0.9666666666666667,0.7666666666666666,0.96,0.9733333333333333,0.9666666666666667,0.96,0.96,0.32,0.9666666666666667,0.9866666666666667,0.94,0.9666666666666667,0.9733333333333333,0.9533333333333333,0.9466666666666667,0.9466666666666667,0.9866666666666667,0.98,0.96,0.98,0.98,0.98,0.9533333333333333,0.96,0.96,0.98,0.96,0.9666666666666667,0.98,0.98,0.96,0.98,0.9733333333333333,0.7600000000000001,0.96,0.96,0.96,0.9733333333333333,0.9733333333333333,0.98,0.96,0.9733333333333333,0.9466666666666667,0.9733333333333333,0.98,0.94,0.96,0.9733333333333333,0.9666666666666667,0.9733333333333333,0.98,0.96,0.9666666666666667,0.9666666666666667,0.9733333333333333,0.9533333333333333,0.94,0.96],\"type\":\"scatter\"},{\"name\":\"Best Value\",\"x\":[0,1,2,3,4,5,6,7,8,9,10,11,12,13,14,15,16,17,18,19,20,21,22,23,24,25,26,27,28,29,30,31,32,33,34,35,36,37,38,39,40,41,42,43,44,45,46,47,48,49,50,51,52,53,54,55,56,57,58,59,60,61,62,63,64,65,66,67,68,69,70,71,72,73,74,75,76,77,78,79,80,81,82,83,84,85,86,87,88,89,90,91,92,93,94,95,96,97,98,99],\"y\":[0.32,0.32,0.96,0.96,0.96,0.96,0.96,0.96,0.96,0.96,0.96,0.96,0.96,0.96,0.96,0.96,0.96,0.96,0.96,0.96,0.96,0.96,0.96,0.96,0.9666666666666667,0.98,0.98,0.98,0.98,0.98,0.98,0.98,0.98,0.98,0.98,0.98,0.98,0.98,0.98,0.98,0.98,0.98,0.98,0.98,0.98,0.98,0.98,0.98,0.98,0.98,0.98,0.9866666666666667,0.9866666666666667,0.9866666666666667,0.9866666666666667,0.9866666666666667,0.9866666666666667,0.9866666666666667,0.9866666666666667,0.9866666666666667,0.9866666666666667,0.9866666666666667,0.9866666666666667,0.9866666666666667,0.9866666666666667,0.9866666666666667,0.9866666666666667,0.9866666666666667,0.9866666666666667,0.9866666666666667,0.9866666666666667,0.9866666666666667,0.9866666666666667,0.9866666666666667,0.9866666666666667,0.9866666666666667,0.9866666666666667,0.9866666666666667,0.9866666666666667,0.9866666666666667,0.9866666666666667,0.9866666666666667,0.9866666666666667,0.9866666666666667,0.9866666666666667,0.9866666666666667,0.9866666666666667,0.9866666666666667,0.9866666666666667,0.9866666666666667,0.9866666666666667,0.9866666666666667,0.9866666666666667,0.9866666666666667,0.9866666666666667,0.9866666666666667,0.9866666666666667,0.9866666666666667,0.9866666666666667,0.9866666666666667],\"type\":\"scatter\"}],                        {\"title\":{\"text\":\"Optimization History Plot\"},\"xaxis\":{\"title\":{\"text\":\"Trial\"}},\"yaxis\":{\"title\":{\"text\":\"Objective Value\"}},\"template\":{\"data\":{\"histogram2dcontour\":[{\"type\":\"histogram2dcontour\",\"colorbar\":{\"outlinewidth\":0,\"ticks\":\"\"},\"colorscale\":[[0.0,\"#0d0887\"],[0.1111111111111111,\"#46039f\"],[0.2222222222222222,\"#7201a8\"],[0.3333333333333333,\"#9c179e\"],[0.4444444444444444,\"#bd3786\"],[0.5555555555555556,\"#d8576b\"],[0.6666666666666666,\"#ed7953\"],[0.7777777777777778,\"#fb9f3a\"],[0.8888888888888888,\"#fdca26\"],[1.0,\"#f0f921\"]]}],\"choropleth\":[{\"type\":\"choropleth\",\"colorbar\":{\"outlinewidth\":0,\"ticks\":\"\"}}],\"histogram2d\":[{\"type\":\"histogram2d\",\"colorbar\":{\"outlinewidth\":0,\"ticks\":\"\"},\"colorscale\":[[0.0,\"#0d0887\"],[0.1111111111111111,\"#46039f\"],[0.2222222222222222,\"#7201a8\"],[0.3333333333333333,\"#9c179e\"],[0.4444444444444444,\"#bd3786\"],[0.5555555555555556,\"#d8576b\"],[0.6666666666666666,\"#ed7953\"],[0.7777777777777778,\"#fb9f3a\"],[0.8888888888888888,\"#fdca26\"],[1.0,\"#f0f921\"]]}],\"heatmap\":[{\"type\":\"heatmap\",\"colorbar\":{\"outlinewidth\":0,\"ticks\":\"\"},\"colorscale\":[[0.0,\"#0d0887\"],[0.1111111111111111,\"#46039f\"],[0.2222222222222222,\"#7201a8\"],[0.3333333333333333,\"#9c179e\"],[0.4444444444444444,\"#bd3786\"],[0.5555555555555556,\"#d8576b\"],[0.6666666666666666,\"#ed7953\"],[0.7777777777777778,\"#fb9f3a\"],[0.8888888888888888,\"#fdca26\"],[1.0,\"#f0f921\"]]}],\"heatmapgl\":[{\"type\":\"heatmapgl\",\"colorbar\":{\"outlinewidth\":0,\"ticks\":\"\"},\"colorscale\":[[0.0,\"#0d0887\"],[0.1111111111111111,\"#46039f\"],[0.2222222222222222,\"#7201a8\"],[0.3333333333333333,\"#9c179e\"],[0.4444444444444444,\"#bd3786\"],[0.5555555555555556,\"#d8576b\"],[0.6666666666666666,\"#ed7953\"],[0.7777777777777778,\"#fb9f3a\"],[0.8888888888888888,\"#fdca26\"],[1.0,\"#f0f921\"]]}],\"contourcarpet\":[{\"type\":\"contourcarpet\",\"colorbar\":{\"outlinewidth\":0,\"ticks\":\"\"}}],\"contour\":[{\"type\":\"contour\",\"colorbar\":{\"outlinewidth\":0,\"ticks\":\"\"},\"colorscale\":[[0.0,\"#0d0887\"],[0.1111111111111111,\"#46039f\"],[0.2222222222222222,\"#7201a8\"],[0.3333333333333333,\"#9c179e\"],[0.4444444444444444,\"#bd3786\"],[0.5555555555555556,\"#d8576b\"],[0.6666666666666666,\"#ed7953\"],[0.7777777777777778,\"#fb9f3a\"],[0.8888888888888888,\"#fdca26\"],[1.0,\"#f0f921\"]]}],\"surface\":[{\"type\":\"surface\",\"colorbar\":{\"outlinewidth\":0,\"ticks\":\"\"},\"colorscale\":[[0.0,\"#0d0887\"],[0.1111111111111111,\"#46039f\"],[0.2222222222222222,\"#7201a8\"],[0.3333333333333333,\"#9c179e\"],[0.4444444444444444,\"#bd3786\"],[0.5555555555555556,\"#d8576b\"],[0.6666666666666666,\"#ed7953\"],[0.7777777777777778,\"#fb9f3a\"],[0.8888888888888888,\"#fdca26\"],[1.0,\"#f0f921\"]]}],\"mesh3d\":[{\"type\":\"mesh3d\",\"colorbar\":{\"outlinewidth\":0,\"ticks\":\"\"}}],\"scatter\":[{\"fillpattern\":{\"fillmode\":\"overlay\",\"size\":10,\"solidity\":0.2},\"type\":\"scatter\"}],\"parcoords\":[{\"type\":\"parcoords\",\"line\":{\"colorbar\":{\"outlinewidth\":0,\"ticks\":\"\"}}}],\"scatterpolargl\":[{\"type\":\"scatterpolargl\",\"marker\":{\"colorbar\":{\"outlinewidth\":0,\"ticks\":\"\"}}}],\"bar\":[{\"error_x\":{\"color\":\"#2a3f5f\"},\"error_y\":{\"color\":\"#2a3f5f\"},\"marker\":{\"line\":{\"color\":\"#E5ECF6\",\"width\":0.5},\"pattern\":{\"fillmode\":\"overlay\",\"size\":10,\"solidity\":0.2}},\"type\":\"bar\"}],\"scattergeo\":[{\"type\":\"scattergeo\",\"marker\":{\"colorbar\":{\"outlinewidth\":0,\"ticks\":\"\"}}}],\"scatterpolar\":[{\"type\":\"scatterpolar\",\"marker\":{\"colorbar\":{\"outlinewidth\":0,\"ticks\":\"\"}}}],\"histogram\":[{\"marker\":{\"pattern\":{\"fillmode\":\"overlay\",\"size\":10,\"solidity\":0.2}},\"type\":\"histogram\"}],\"scattergl\":[{\"type\":\"scattergl\",\"marker\":{\"colorbar\":{\"outlinewidth\":0,\"ticks\":\"\"}}}],\"scatter3d\":[{\"type\":\"scatter3d\",\"line\":{\"colorbar\":{\"outlinewidth\":0,\"ticks\":\"\"}},\"marker\":{\"colorbar\":{\"outlinewidth\":0,\"ticks\":\"\"}}}],\"scattermapbox\":[{\"type\":\"scattermapbox\",\"marker\":{\"colorbar\":{\"outlinewidth\":0,\"ticks\":\"\"}}}],\"scatterternary\":[{\"type\":\"scatterternary\",\"marker\":{\"colorbar\":{\"outlinewidth\":0,\"ticks\":\"\"}}}],\"scattercarpet\":[{\"type\":\"scattercarpet\",\"marker\":{\"colorbar\":{\"outlinewidth\":0,\"ticks\":\"\"}}}],\"carpet\":[{\"aaxis\":{\"endlinecolor\":\"#2a3f5f\",\"gridcolor\":\"white\",\"linecolor\":\"white\",\"minorgridcolor\":\"white\",\"startlinecolor\":\"#2a3f5f\"},\"baxis\":{\"endlinecolor\":\"#2a3f5f\",\"gridcolor\":\"white\",\"linecolor\":\"white\",\"minorgridcolor\":\"white\",\"startlinecolor\":\"#2a3f5f\"},\"type\":\"carpet\"}],\"table\":[{\"cells\":{\"fill\":{\"color\":\"#EBF0F8\"},\"line\":{\"color\":\"white\"}},\"header\":{\"fill\":{\"color\":\"#C8D4E3\"},\"line\":{\"color\":\"white\"}},\"type\":\"table\"}],\"barpolar\":[{\"marker\":{\"line\":{\"color\":\"#E5ECF6\",\"width\":0.5},\"pattern\":{\"fillmode\":\"overlay\",\"size\":10,\"solidity\":0.2}},\"type\":\"barpolar\"}],\"pie\":[{\"automargin\":true,\"type\":\"pie\"}]},\"layout\":{\"autotypenumbers\":\"strict\",\"colorway\":[\"#636efa\",\"#EF553B\",\"#00cc96\",\"#ab63fa\",\"#FFA15A\",\"#19d3f3\",\"#FF6692\",\"#B6E880\",\"#FF97FF\",\"#FECB52\"],\"font\":{\"color\":\"#2a3f5f\"},\"hovermode\":\"closest\",\"hoverlabel\":{\"align\":\"left\"},\"paper_bgcolor\":\"white\",\"plot_bgcolor\":\"#E5ECF6\",\"polar\":{\"bgcolor\":\"#E5ECF6\",\"angularaxis\":{\"gridcolor\":\"white\",\"linecolor\":\"white\",\"ticks\":\"\"},\"radialaxis\":{\"gridcolor\":\"white\",\"linecolor\":\"white\",\"ticks\":\"\"}},\"ternary\":{\"bgcolor\":\"#E5ECF6\",\"aaxis\":{\"gridcolor\":\"white\",\"linecolor\":\"white\",\"ticks\":\"\"},\"baxis\":{\"gridcolor\":\"white\",\"linecolor\":\"white\",\"ticks\":\"\"},\"caxis\":{\"gridcolor\":\"white\",\"linecolor\":\"white\",\"ticks\":\"\"}},\"coloraxis\":{\"colorbar\":{\"outlinewidth\":0,\"ticks\":\"\"}},\"colorscale\":{\"sequential\":[[0.0,\"#0d0887\"],[0.1111111111111111,\"#46039f\"],[0.2222222222222222,\"#7201a8\"],[0.3333333333333333,\"#9c179e\"],[0.4444444444444444,\"#bd3786\"],[0.5555555555555556,\"#d8576b\"],[0.6666666666666666,\"#ed7953\"],[0.7777777777777778,\"#fb9f3a\"],[0.8888888888888888,\"#fdca26\"],[1.0,\"#f0f921\"]],\"sequentialminus\":[[0.0,\"#0d0887\"],[0.1111111111111111,\"#46039f\"],[0.2222222222222222,\"#7201a8\"],[0.3333333333333333,\"#9c179e\"],[0.4444444444444444,\"#bd3786\"],[0.5555555555555556,\"#d8576b\"],[0.6666666666666666,\"#ed7953\"],[0.7777777777777778,\"#fb9f3a\"],[0.8888888888888888,\"#fdca26\"],[1.0,\"#f0f921\"]],\"diverging\":[[0,\"#8e0152\"],[0.1,\"#c51b7d\"],[0.2,\"#de77ae\"],[0.3,\"#f1b6da\"],[0.4,\"#fde0ef\"],[0.5,\"#f7f7f7\"],[0.6,\"#e6f5d0\"],[0.7,\"#b8e186\"],[0.8,\"#7fbc41\"],[0.9,\"#4d9221\"],[1,\"#276419\"]]},\"xaxis\":{\"gridcolor\":\"white\",\"linecolor\":\"white\",\"ticks\":\"\",\"title\":{\"standoff\":15},\"zerolinecolor\":\"white\",\"automargin\":true,\"zerolinewidth\":2},\"yaxis\":{\"gridcolor\":\"white\",\"linecolor\":\"white\",\"ticks\":\"\",\"title\":{\"standoff\":15},\"zerolinecolor\":\"white\",\"automargin\":true,\"zerolinewidth\":2},\"scene\":{\"xaxis\":{\"backgroundcolor\":\"#E5ECF6\",\"gridcolor\":\"white\",\"linecolor\":\"white\",\"showbackground\":true,\"ticks\":\"\",\"zerolinecolor\":\"white\",\"gridwidth\":2},\"yaxis\":{\"backgroundcolor\":\"#E5ECF6\",\"gridcolor\":\"white\",\"linecolor\":\"white\",\"showbackground\":true,\"ticks\":\"\",\"zerolinecolor\":\"white\",\"gridwidth\":2},\"zaxis\":{\"backgroundcolor\":\"#E5ECF6\",\"gridcolor\":\"white\",\"linecolor\":\"white\",\"showbackground\":true,\"ticks\":\"\",\"zerolinecolor\":\"white\",\"gridwidth\":2}},\"shapedefaults\":{\"line\":{\"color\":\"#2a3f5f\"}},\"annotationdefaults\":{\"arrowcolor\":\"#2a3f5f\",\"arrowhead\":0,\"arrowwidth\":1},\"geo\":{\"bgcolor\":\"white\",\"landcolor\":\"#E5ECF6\",\"subunitcolor\":\"white\",\"showland\":true,\"showlakes\":true,\"lakecolor\":\"white\"},\"title\":{\"x\":0.05},\"mapbox\":{\"style\":\"light\"}}}},                        {\"responsive\": true}                    ).then(function(){\n",
              "                            \n",
              "var gd = document.getElementById('a295e52b-8375-4d8e-a378-aedf9448c05b');\n",
              "var x = new MutationObserver(function (mutations, observer) {{\n",
              "        var display = window.getComputedStyle(gd).display;\n",
              "        if (!display || display === 'none') {{\n",
              "            console.log([gd, 'removed!']);\n",
              "            Plotly.purge(gd);\n",
              "            observer.disconnect();\n",
              "        }}\n",
              "}});\n",
              "\n",
              "// Listen for the removal of the full notebook cells\n",
              "var notebookContainer = gd.closest('#notebook-container');\n",
              "if (notebookContainer) {{\n",
              "    x.observe(notebookContainer, {childList: true});\n",
              "}}\n",
              "\n",
              "// Listen for the clearing of the current output cell\n",
              "var outputEl = gd.closest('.output');\n",
              "if (outputEl) {{\n",
              "    x.observe(outputEl, {childList: true});\n",
              "}}\n",
              "\n",
              "                        })                };                            </script>        </div>\n",
              "</body>\n",
              "</html>"
            ]
          },
          "metadata": {}
        }
      ],
      "source": [
        "optuna.visualization.plot_optimization_history(study)"
      ]
    },
    {
      "cell_type": "markdown",
      "metadata": {
        "id": "mvuGu5D87gRs"
      },
      "source": [
        "Plotting the accuracies for each hyperparameter for each trial."
      ]
    },
    {
      "cell_type": "code",
      "execution_count": 7,
      "metadata": {
        "id": "5OOwYho97gRt",
        "outputId": "eb29604e-7df8-499f-9381-e15d6ea54ea0",
        "colab": {
          "base_uri": "https://localhost:8080/",
          "height": 542
        }
      },
      "outputs": [
        {
          "output_type": "display_data",
          "data": {
            "text/html": [
              "<html>\n",
              "<head><meta charset=\"utf-8\" /></head>\n",
              "<body>\n",
              "    <div>            <script src=\"https://cdnjs.cloudflare.com/ajax/libs/mathjax/2.7.5/MathJax.js?config=TeX-AMS-MML_SVG\"></script><script type=\"text/javascript\">if (window.MathJax && window.MathJax.Hub && window.MathJax.Hub.Config) {window.MathJax.Hub.Config({SVG: {font: \"STIX-Web\"}});}</script>                <script type=\"text/javascript\">window.PlotlyConfig = {MathJaxConfig: 'local'};</script>\n",
              "        <script src=\"https://cdn.plot.ly/plotly-2.18.2.min.js\"></script>                <div id=\"2b9884d8-26c4-44f2-847a-f8fa043b8eae\" class=\"plotly-graph-div\" style=\"height:525px; width:1200px;\"></div>            <script type=\"text/javascript\">                                    window.PLOTLYENV=window.PLOTLYENV || {};                                    if (document.getElementById(\"2b9884d8-26c4-44f2-847a-f8fa043b8eae\")) {                    Plotly.newPlot(                        \"2b9884d8-26c4-44f2-847a-f8fa043b8eae\",                        [{\"marker\":{\"color\":[0,1,2,3,4,5,6,7,8,9,10,11,12,13,14,15,16,17,18,19,20,21,22,23,24,25,26,27,28,29,30,31,32,33,34,35,36,37,38,39,40,41,42,43,44,45,46,47,48,49,50,51,52,53,54,55,56,57,58,59,60,61,62,63,64,65,66,67,68,69,70,71,72,73,74,75,76,77,78,79,80,81,82,83,84,85,86,87,88,89,90,91,92,93,94,95,96,97,98,99],\"colorbar\":{\"title\":{\"text\":\"Trial\"},\"x\":1.0,\"xpad\":40},\"colorscale\":[[0.0,\"rgb(247,251,255)\"],[0.125,\"rgb(222,235,247)\"],[0.25,\"rgb(198,219,239)\"],[0.375,\"rgb(158,202,225)\"],[0.5,\"rgb(107,174,214)\"],[0.625,\"rgb(66,146,198)\"],[0.75,\"rgb(33,113,181)\"],[0.875,\"rgb(8,81,156)\"],[1.0,\"rgb(8,48,107)\"]],\"line\":{\"color\":\"Grey\",\"width\":0.5},\"showscale\":true},\"mode\":\"markers\",\"showlegend\":false,\"x\":[\"SVC\",\"SVC\",\"RandomForest\",\"SVC\",\"SVC\",\"RandomForest\",\"SVC\",\"SVC\",\"SVC\",\"SVC\",\"RandomForest\",\"RandomForest\",\"RandomForest\",\"RandomForest\",\"RandomForest\",\"RandomForest\",\"SVC\",\"RandomForest\",\"RandomForest\",\"SVC\",\"SVC\",\"SVC\",\"SVC\",\"SVC\",\"SVC\",\"SVC\",\"RandomForest\",\"SVC\",\"RandomForest\",\"SVC\",\"SVC\",\"SVC\",\"SVC\",\"SVC\",\"SVC\",\"SVC\",\"SVC\",\"SVC\",\"RandomForest\",\"SVC\",\"SVC\",\"SVC\",\"SVC\",\"SVC\",\"SVC\",\"SVC\",\"RandomForest\",\"SVC\",\"RandomForest\",\"SVC\",\"RandomForest\",\"SVC\",\"SVC\",\"SVC\",\"SVC\",\"SVC\",\"SVC\",\"RandomForest\",\"SVC\",\"SVC\",\"RandomForest\",\"SVC\",\"SVC\",\"SVC\",\"SVC\",\"SVC\",\"SVC\",\"SVC\",\"SVC\",\"SVC\",\"SVC\",\"SVC\",\"SVC\",\"SVC\",\"SVC\",\"SVC\",\"SVC\",\"SVC\",\"SVC\",\"SVC\",\"SVC\",\"SVC\",\"SVC\",\"SVC\",\"SVC\",\"SVC\",\"SVC\",\"SVC\",\"SVC\",\"SVC\",\"SVC\",\"SVC\",\"SVC\",\"SVC\",\"SVC\",\"SVC\",\"SVC\",\"SVC\",\"SVC\",\"SVC\"],\"y\":[0.32,0.32,0.96,0.96,0.96,0.94,0.96,0.32,0.32,0.96,0.96,0.8733333333333334,0.9533333333333333,0.9533333333333333,0.94,0.9533333333333333,0.96,0.96,0.94,0.96,0.96,0.96,0.96,0.96,0.9666666666666667,0.98,0.9733333333333333,0.9733333333333333,0.9466666666666667,0.7466666666666667,0.32,0.9666666666666667,0.9666666666666667,0.96,0.96,0.32,0.9466666666666667,0.9733333333333333,0.9666666666666667,0.9666666666666667,0.32,0.98,0.9666666666666667,0.7666666666666666,0.96,0.9733333333333333,0.9666666666666667,0.96,0.96,0.32,0.9666666666666667,0.9866666666666667,0.94,0.9666666666666667,0.9733333333333333,0.9533333333333333,0.9466666666666667,0.9466666666666667,0.9866666666666667,0.98,0.96,0.98,0.98,0.98,0.9533333333333333,0.96,0.96,0.98,0.96,0.9666666666666667,0.98,0.98,0.96,0.98,0.9733333333333333,0.7600000000000001,0.96,0.96,0.96,0.9733333333333333,0.9733333333333333,0.98,0.96,0.9733333333333333,0.9466666666666667,0.9733333333333333,0.98,0.94,0.96,0.9733333333333333,0.9666666666666667,0.9733333333333333,0.98,0.96,0.9666666666666667,0.9666666666666667,0.9733333333333333,0.9533333333333333,0.94,0.96],\"type\":\"scatter\",\"xaxis\":\"x\",\"yaxis\":\"y\"},{\"marker\":{\"color\":[2,5,10,11,12,13,14,15,17,18,26,28,38,46,48,50,57,60],\"colorbar\":{\"title\":{\"text\":\"Trial\"},\"x\":1.0,\"xpad\":40},\"colorscale\":[[0.0,\"rgb(247,251,255)\"],[0.125,\"rgb(222,235,247)\"],[0.25,\"rgb(198,219,239)\"],[0.375,\"rgb(158,202,225)\"],[0.5,\"rgb(107,174,214)\"],[0.625,\"rgb(66,146,198)\"],[0.75,\"rgb(33,113,181)\"],[0.875,\"rgb(8,81,156)\"],[1.0,\"rgb(8,48,107)\"]],\"line\":{\"color\":\"Grey\",\"width\":0.5},\"showscale\":false},\"mode\":\"markers\",\"showlegend\":false,\"x\":[15.048040635627752,24.148236972248696,4.5988689706056265,1.0460909213845584,30.11528717626823,10.765373340693216,8.23427294308399,14.31613892745546,4.5341804973464885,17.899486531764893,7.350471851333009,2.4200027089991902,8.504195387553908,5.921567526756637,2.8086652250853947,31.72865613222137,11.560830933019414,20.600175369853275],\"y\":[0.96,0.94,0.96,0.8733333333333334,0.9533333333333333,0.9533333333333333,0.94,0.9533333333333333,0.96,0.94,0.9733333333333333,0.9466666666666667,0.9666666666666667,0.9666666666666667,0.96,0.9666666666666667,0.9466666666666667,0.96],\"type\":\"scatter\",\"xaxis\":\"x2\",\"yaxis\":\"y2\"},{\"marker\":{\"color\":[2,5,10,11,12,13,14,15,17,18,26,28,38,46,48,50,57,60],\"colorbar\":{\"title\":{\"text\":\"Trial\"},\"x\":1.0,\"xpad\":40},\"colorscale\":[[0.0,\"rgb(247,251,255)\"],[0.125,\"rgb(222,235,247)\"],[0.25,\"rgb(198,219,239)\"],[0.375,\"rgb(158,202,225)\"],[0.5,\"rgb(107,174,214)\"],[0.625,\"rgb(66,146,198)\"],[0.75,\"rgb(33,113,181)\"],[0.875,\"rgb(8,81,156)\"],[1.0,\"rgb(8,48,107)\"]],\"line\":{\"color\":\"Grey\",\"width\":0.5},\"showscale\":false},\"mode\":\"markers\",\"showlegend\":false,\"x\":[18,2,19,20,11,13,14,6,16,8,17,11,16,7,2,17,14,9],\"y\":[0.96,0.94,0.96,0.8733333333333334,0.9533333333333333,0.9533333333333333,0.94,0.9533333333333333,0.96,0.94,0.9733333333333333,0.9466666666666667,0.9666666666666667,0.9666666666666667,0.96,0.9666666666666667,0.9466666666666667,0.96],\"type\":\"scatter\",\"xaxis\":\"x3\",\"yaxis\":\"y3\"},{\"marker\":{\"color\":[0,1,3,4,6,7,8,9,16,19,20,21,22,23,24,25,27,29,30,31,32,33,34,35,36,37,39,40,41,42,43,44,45,47,49,51,52,53,54,55,56,58,59,61,62,63,64,65,66,67,68,69,70,71,72,73,74,75,76,77,78,79,80,81,82,83,84,85,86,87,88,89,90,91,92,93,94,95,96,97,98,99],\"colorbar\":{\"title\":{\"text\":\"Trial\"},\"x\":1.0,\"xpad\":40},\"colorscale\":[[0.0,\"rgb(247,251,255)\"],[0.125,\"rgb(222,235,247)\"],[0.25,\"rgb(198,219,239)\"],[0.375,\"rgb(158,202,225)\"],[0.5,\"rgb(107,174,214)\"],[0.625,\"rgb(66,146,198)\"],[0.75,\"rgb(33,113,181)\"],[0.875,\"rgb(8,81,156)\"],[1.0,\"rgb(8,48,107)\"]],\"line\":{\"color\":\"Grey\",\"width\":0.5},\"showscale\":false},\"mode\":\"markers\",\"showlegend\":false,\"x\":[1.566942283208742e-05,6.014786734533924e-09,914025286.8936354,39139.398272292325,421999568.7868061,1.0469610181087182e-07,2.1553668306189383e-06,0.46457534462343086,735381626.203278,5247.320194224522,1956764890.1662664,100676.14091564609,22847.07059847998,2359146.8556335587,21.027536480886265,8.58032497250644,3.0491224595800497,0.022209936510457808,0.004735622977183138,27.09735684824187,26.06218391025341,68.74169652140017,0.2585430893696543,0.0040403933125326965,259.3635775719723,1.100024866885923,1.4118641351894963,0.00016203424248005231,5.050204044908384,0.8868694811156329,0.03339798417417267,1316.1611658691397,2.7836682033449236,584.4333629329068,0.0009354536032866523,4.618568509471278,0.08959294262020927,19.355495401518727,3.565841892564528,0.13655972123256657,194.5969954500463,4.232935603551132,5.889836074057662,8.374225656380311,8.508178180602561,7.190111573843267,171.08341061224326,0.29394956894534313,46.202992795452865,6.553545906770879,4747.848390280833,0.3986138716648342,8.1102426956045,9.230813842143817,65.65829504119657,5.018645294869272,1.053997389050802,0.03310376548590894,982.0692994616451,56.69768214282018,0.24104195751513358,14.194144401987282,1.7223427491591559,6.120204996342654,101.9397070812813,14.124871645422814,302.69081265438984,1.024506743598082,5.648707424314007,0.10529687973945157,38.482009992772035,2.6919904342389427,0.8035338076908938,12.904960427258546,5.509937164697761,112.39951073014687,24.55614482833773,0.6963521416216357,2.8539788162029422,481.7584231759223,0.06901597468629347,0.25216384859962204],\"y\":[0.32,0.32,0.96,0.96,0.96,0.32,0.32,0.96,0.96,0.96,0.96,0.96,0.96,0.96,0.9666666666666667,0.98,0.9733333333333333,0.7466666666666667,0.32,0.9666666666666667,0.9666666666666667,0.96,0.96,0.32,0.9466666666666667,0.9733333333333333,0.9666666666666667,0.32,0.98,0.9666666666666667,0.7666666666666666,0.96,0.9733333333333333,0.96,0.32,0.9866666666666667,0.94,0.9666666666666667,0.9733333333333333,0.9533333333333333,0.9466666666666667,0.9866666666666667,0.98,0.98,0.98,0.98,0.9533333333333333,0.96,0.96,0.98,0.96,0.9666666666666667,0.98,0.98,0.96,0.98,0.9733333333333333,0.7600000000000001,0.96,0.96,0.96,0.9733333333333333,0.9733333333333333,0.98,0.96,0.9733333333333333,0.9466666666666667,0.9733333333333333,0.98,0.94,0.96,0.9733333333333333,0.9666666666666667,0.9733333333333333,0.98,0.96,0.9666666666666667,0.9666666666666667,0.9733333333333333,0.9533333333333333,0.94,0.96],\"type\":\"scatter\",\"xaxis\":\"x4\",\"yaxis\":\"y4\"}],                        {\"template\":{\"data\":{\"histogram2dcontour\":[{\"type\":\"histogram2dcontour\",\"colorbar\":{\"outlinewidth\":0,\"ticks\":\"\"},\"colorscale\":[[0.0,\"#0d0887\"],[0.1111111111111111,\"#46039f\"],[0.2222222222222222,\"#7201a8\"],[0.3333333333333333,\"#9c179e\"],[0.4444444444444444,\"#bd3786\"],[0.5555555555555556,\"#d8576b\"],[0.6666666666666666,\"#ed7953\"],[0.7777777777777778,\"#fb9f3a\"],[0.8888888888888888,\"#fdca26\"],[1.0,\"#f0f921\"]]}],\"choropleth\":[{\"type\":\"choropleth\",\"colorbar\":{\"outlinewidth\":0,\"ticks\":\"\"}}],\"histogram2d\":[{\"type\":\"histogram2d\",\"colorbar\":{\"outlinewidth\":0,\"ticks\":\"\"},\"colorscale\":[[0.0,\"#0d0887\"],[0.1111111111111111,\"#46039f\"],[0.2222222222222222,\"#7201a8\"],[0.3333333333333333,\"#9c179e\"],[0.4444444444444444,\"#bd3786\"],[0.5555555555555556,\"#d8576b\"],[0.6666666666666666,\"#ed7953\"],[0.7777777777777778,\"#fb9f3a\"],[0.8888888888888888,\"#fdca26\"],[1.0,\"#f0f921\"]]}],\"heatmap\":[{\"type\":\"heatmap\",\"colorbar\":{\"outlinewidth\":0,\"ticks\":\"\"},\"colorscale\":[[0.0,\"#0d0887\"],[0.1111111111111111,\"#46039f\"],[0.2222222222222222,\"#7201a8\"],[0.3333333333333333,\"#9c179e\"],[0.4444444444444444,\"#bd3786\"],[0.5555555555555556,\"#d8576b\"],[0.6666666666666666,\"#ed7953\"],[0.7777777777777778,\"#fb9f3a\"],[0.8888888888888888,\"#fdca26\"],[1.0,\"#f0f921\"]]}],\"heatmapgl\":[{\"type\":\"heatmapgl\",\"colorbar\":{\"outlinewidth\":0,\"ticks\":\"\"},\"colorscale\":[[0.0,\"#0d0887\"],[0.1111111111111111,\"#46039f\"],[0.2222222222222222,\"#7201a8\"],[0.3333333333333333,\"#9c179e\"],[0.4444444444444444,\"#bd3786\"],[0.5555555555555556,\"#d8576b\"],[0.6666666666666666,\"#ed7953\"],[0.7777777777777778,\"#fb9f3a\"],[0.8888888888888888,\"#fdca26\"],[1.0,\"#f0f921\"]]}],\"contourcarpet\":[{\"type\":\"contourcarpet\",\"colorbar\":{\"outlinewidth\":0,\"ticks\":\"\"}}],\"contour\":[{\"type\":\"contour\",\"colorbar\":{\"outlinewidth\":0,\"ticks\":\"\"},\"colorscale\":[[0.0,\"#0d0887\"],[0.1111111111111111,\"#46039f\"],[0.2222222222222222,\"#7201a8\"],[0.3333333333333333,\"#9c179e\"],[0.4444444444444444,\"#bd3786\"],[0.5555555555555556,\"#d8576b\"],[0.6666666666666666,\"#ed7953\"],[0.7777777777777778,\"#fb9f3a\"],[0.8888888888888888,\"#fdca26\"],[1.0,\"#f0f921\"]]}],\"surface\":[{\"type\":\"surface\",\"colorbar\":{\"outlinewidth\":0,\"ticks\":\"\"},\"colorscale\":[[0.0,\"#0d0887\"],[0.1111111111111111,\"#46039f\"],[0.2222222222222222,\"#7201a8\"],[0.3333333333333333,\"#9c179e\"],[0.4444444444444444,\"#bd3786\"],[0.5555555555555556,\"#d8576b\"],[0.6666666666666666,\"#ed7953\"],[0.7777777777777778,\"#fb9f3a\"],[0.8888888888888888,\"#fdca26\"],[1.0,\"#f0f921\"]]}],\"mesh3d\":[{\"type\":\"mesh3d\",\"colorbar\":{\"outlinewidth\":0,\"ticks\":\"\"}}],\"scatter\":[{\"fillpattern\":{\"fillmode\":\"overlay\",\"size\":10,\"solidity\":0.2},\"type\":\"scatter\"}],\"parcoords\":[{\"type\":\"parcoords\",\"line\":{\"colorbar\":{\"outlinewidth\":0,\"ticks\":\"\"}}}],\"scatterpolargl\":[{\"type\":\"scatterpolargl\",\"marker\":{\"colorbar\":{\"outlinewidth\":0,\"ticks\":\"\"}}}],\"bar\":[{\"error_x\":{\"color\":\"#2a3f5f\"},\"error_y\":{\"color\":\"#2a3f5f\"},\"marker\":{\"line\":{\"color\":\"#E5ECF6\",\"width\":0.5},\"pattern\":{\"fillmode\":\"overlay\",\"size\":10,\"solidity\":0.2}},\"type\":\"bar\"}],\"scattergeo\":[{\"type\":\"scattergeo\",\"marker\":{\"colorbar\":{\"outlinewidth\":0,\"ticks\":\"\"}}}],\"scatterpolar\":[{\"type\":\"scatterpolar\",\"marker\":{\"colorbar\":{\"outlinewidth\":0,\"ticks\":\"\"}}}],\"histogram\":[{\"marker\":{\"pattern\":{\"fillmode\":\"overlay\",\"size\":10,\"solidity\":0.2}},\"type\":\"histogram\"}],\"scattergl\":[{\"type\":\"scattergl\",\"marker\":{\"colorbar\":{\"outlinewidth\":0,\"ticks\":\"\"}}}],\"scatter3d\":[{\"type\":\"scatter3d\",\"line\":{\"colorbar\":{\"outlinewidth\":0,\"ticks\":\"\"}},\"marker\":{\"colorbar\":{\"outlinewidth\":0,\"ticks\":\"\"}}}],\"scattermapbox\":[{\"type\":\"scattermapbox\",\"marker\":{\"colorbar\":{\"outlinewidth\":0,\"ticks\":\"\"}}}],\"scatterternary\":[{\"type\":\"scatterternary\",\"marker\":{\"colorbar\":{\"outlinewidth\":0,\"ticks\":\"\"}}}],\"scattercarpet\":[{\"type\":\"scattercarpet\",\"marker\":{\"colorbar\":{\"outlinewidth\":0,\"ticks\":\"\"}}}],\"carpet\":[{\"aaxis\":{\"endlinecolor\":\"#2a3f5f\",\"gridcolor\":\"white\",\"linecolor\":\"white\",\"minorgridcolor\":\"white\",\"startlinecolor\":\"#2a3f5f\"},\"baxis\":{\"endlinecolor\":\"#2a3f5f\",\"gridcolor\":\"white\",\"linecolor\":\"white\",\"minorgridcolor\":\"white\",\"startlinecolor\":\"#2a3f5f\"},\"type\":\"carpet\"}],\"table\":[{\"cells\":{\"fill\":{\"color\":\"#EBF0F8\"},\"line\":{\"color\":\"white\"}},\"header\":{\"fill\":{\"color\":\"#C8D4E3\"},\"line\":{\"color\":\"white\"}},\"type\":\"table\"}],\"barpolar\":[{\"marker\":{\"line\":{\"color\":\"#E5ECF6\",\"width\":0.5},\"pattern\":{\"fillmode\":\"overlay\",\"size\":10,\"solidity\":0.2}},\"type\":\"barpolar\"}],\"pie\":[{\"automargin\":true,\"type\":\"pie\"}]},\"layout\":{\"autotypenumbers\":\"strict\",\"colorway\":[\"#636efa\",\"#EF553B\",\"#00cc96\",\"#ab63fa\",\"#FFA15A\",\"#19d3f3\",\"#FF6692\",\"#B6E880\",\"#FF97FF\",\"#FECB52\"],\"font\":{\"color\":\"#2a3f5f\"},\"hovermode\":\"closest\",\"hoverlabel\":{\"align\":\"left\"},\"paper_bgcolor\":\"white\",\"plot_bgcolor\":\"#E5ECF6\",\"polar\":{\"bgcolor\":\"#E5ECF6\",\"angularaxis\":{\"gridcolor\":\"white\",\"linecolor\":\"white\",\"ticks\":\"\"},\"radialaxis\":{\"gridcolor\":\"white\",\"linecolor\":\"white\",\"ticks\":\"\"}},\"ternary\":{\"bgcolor\":\"#E5ECF6\",\"aaxis\":{\"gridcolor\":\"white\",\"linecolor\":\"white\",\"ticks\":\"\"},\"baxis\":{\"gridcolor\":\"white\",\"linecolor\":\"white\",\"ticks\":\"\"},\"caxis\":{\"gridcolor\":\"white\",\"linecolor\":\"white\",\"ticks\":\"\"}},\"coloraxis\":{\"colorbar\":{\"outlinewidth\":0,\"ticks\":\"\"}},\"colorscale\":{\"sequential\":[[0.0,\"#0d0887\"],[0.1111111111111111,\"#46039f\"],[0.2222222222222222,\"#7201a8\"],[0.3333333333333333,\"#9c179e\"],[0.4444444444444444,\"#bd3786\"],[0.5555555555555556,\"#d8576b\"],[0.6666666666666666,\"#ed7953\"],[0.7777777777777778,\"#fb9f3a\"],[0.8888888888888888,\"#fdca26\"],[1.0,\"#f0f921\"]],\"sequentialminus\":[[0.0,\"#0d0887\"],[0.1111111111111111,\"#46039f\"],[0.2222222222222222,\"#7201a8\"],[0.3333333333333333,\"#9c179e\"],[0.4444444444444444,\"#bd3786\"],[0.5555555555555556,\"#d8576b\"],[0.6666666666666666,\"#ed7953\"],[0.7777777777777778,\"#fb9f3a\"],[0.8888888888888888,\"#fdca26\"],[1.0,\"#f0f921\"]],\"diverging\":[[0,\"#8e0152\"],[0.1,\"#c51b7d\"],[0.2,\"#de77ae\"],[0.3,\"#f1b6da\"],[0.4,\"#fde0ef\"],[0.5,\"#f7f7f7\"],[0.6,\"#e6f5d0\"],[0.7,\"#b8e186\"],[0.8,\"#7fbc41\"],[0.9,\"#4d9221\"],[1,\"#276419\"]]},\"xaxis\":{\"gridcolor\":\"white\",\"linecolor\":\"white\",\"ticks\":\"\",\"title\":{\"standoff\":15},\"zerolinecolor\":\"white\",\"automargin\":true,\"zerolinewidth\":2},\"yaxis\":{\"gridcolor\":\"white\",\"linecolor\":\"white\",\"ticks\":\"\",\"title\":{\"standoff\":15},\"zerolinecolor\":\"white\",\"automargin\":true,\"zerolinewidth\":2},\"scene\":{\"xaxis\":{\"backgroundcolor\":\"#E5ECF6\",\"gridcolor\":\"white\",\"linecolor\":\"white\",\"showbackground\":true,\"ticks\":\"\",\"zerolinecolor\":\"white\",\"gridwidth\":2},\"yaxis\":{\"backgroundcolor\":\"#E5ECF6\",\"gridcolor\":\"white\",\"linecolor\":\"white\",\"showbackground\":true,\"ticks\":\"\",\"zerolinecolor\":\"white\",\"gridwidth\":2},\"zaxis\":{\"backgroundcolor\":\"#E5ECF6\",\"gridcolor\":\"white\",\"linecolor\":\"white\",\"showbackground\":true,\"ticks\":\"\",\"zerolinecolor\":\"white\",\"gridwidth\":2}},\"shapedefaults\":{\"line\":{\"color\":\"#2a3f5f\"}},\"annotationdefaults\":{\"arrowcolor\":\"#2a3f5f\",\"arrowhead\":0,\"arrowwidth\":1},\"geo\":{\"bgcolor\":\"white\",\"landcolor\":\"#E5ECF6\",\"subunitcolor\":\"white\",\"showland\":true,\"showlakes\":true,\"lakecolor\":\"white\"},\"title\":{\"x\":0.05},\"mapbox\":{\"style\":\"light\"}}},\"xaxis\":{\"anchor\":\"y\",\"domain\":[0.0,0.2125],\"title\":{\"text\":\"classifier\"}},\"yaxis\":{\"anchor\":\"x\",\"domain\":[0.0,1.0],\"title\":{\"text\":\"Objective Value\"}},\"xaxis2\":{\"anchor\":\"y2\",\"domain\":[0.2625,0.475],\"title\":{\"text\":\"max_depth\"},\"type\":\"log\"},\"yaxis2\":{\"anchor\":\"x2\",\"domain\":[0.0,1.0],\"matches\":\"y\",\"showticklabels\":false},\"xaxis3\":{\"anchor\":\"y3\",\"domain\":[0.525,0.7375],\"title\":{\"text\":\"n_estimators\"}},\"yaxis3\":{\"anchor\":\"x3\",\"domain\":[0.0,1.0],\"matches\":\"y\",\"showticklabels\":false},\"xaxis4\":{\"anchor\":\"y4\",\"domain\":[0.7875,1.0],\"title\":{\"text\":\"svc_c\"},\"type\":\"log\"},\"yaxis4\":{\"anchor\":\"x4\",\"domain\":[0.0,1.0],\"matches\":\"y\",\"showticklabels\":false},\"title\":{\"text\":\"Slice Plot\"},\"width\":1200},                        {\"responsive\": true}                    ).then(function(){\n",
              "                            \n",
              "var gd = document.getElementById('2b9884d8-26c4-44f2-847a-f8fa043b8eae');\n",
              "var x = new MutationObserver(function (mutations, observer) {{\n",
              "        var display = window.getComputedStyle(gd).display;\n",
              "        if (!display || display === 'none') {{\n",
              "            console.log([gd, 'removed!']);\n",
              "            Plotly.purge(gd);\n",
              "            observer.disconnect();\n",
              "        }}\n",
              "}});\n",
              "\n",
              "// Listen for the removal of the full notebook cells\n",
              "var notebookContainer = gd.closest('#notebook-container');\n",
              "if (notebookContainer) {{\n",
              "    x.observe(notebookContainer, {childList: true});\n",
              "}}\n",
              "\n",
              "// Listen for the clearing of the current output cell\n",
              "var outputEl = gd.closest('.output');\n",
              "if (outputEl) {{\n",
              "    x.observe(outputEl, {childList: true});\n",
              "}}\n",
              "\n",
              "                        })                };                            </script>        </div>\n",
              "</body>\n",
              "</html>"
            ]
          },
          "metadata": {}
        }
      ],
      "source": [
        "optuna.visualization.plot_slice(study)"
      ]
    },
    {
      "cell_type": "markdown",
      "metadata": {
        "id": "epqiJf0Q7gRt"
      },
      "source": [
        "Plotting the accuracy surface for the hyperparameters involved in the random forest model."
      ]
    },
    {
      "cell_type": "code",
      "execution_count": 8,
      "metadata": {
        "id": "yS7vWo8S7gRt",
        "outputId": "5509c19e-d3d0-49c0-a320-3557726aa506",
        "colab": {
          "base_uri": "https://localhost:8080/",
          "height": 542
        }
      },
      "outputs": [
        {
          "output_type": "display_data",
          "data": {
            "text/html": [
              "<html>\n",
              "<head><meta charset=\"utf-8\" /></head>\n",
              "<body>\n",
              "    <div>            <script src=\"https://cdnjs.cloudflare.com/ajax/libs/mathjax/2.7.5/MathJax.js?config=TeX-AMS-MML_SVG\"></script><script type=\"text/javascript\">if (window.MathJax && window.MathJax.Hub && window.MathJax.Hub.Config) {window.MathJax.Hub.Config({SVG: {font: \"STIX-Web\"}});}</script>                <script type=\"text/javascript\">window.PlotlyConfig = {MathJaxConfig: 'local'};</script>\n",
              "        <script src=\"https://cdn.plot.ly/plotly-2.18.2.min.js\"></script>                <div id=\"7c12db7b-d32e-40fb-9ac7-0a3c4acc5190\" class=\"plotly-graph-div\" style=\"height:525px; width:100%;\"></div>            <script type=\"text/javascript\">                                    window.PLOTLYENV=window.PLOTLYENV || {};                                    if (document.getElementById(\"7c12db7b-d32e-40fb-9ac7-0a3c4acc5190\")) {                    Plotly.newPlot(                        \"7c12db7b-d32e-40fb-9ac7-0a3c4acc5190\",                        [{\"colorbar\":{\"title\":{\"text\":\"Objective Value\"}},\"colorscale\":[[0.0,\"rgb(247,251,255)\"],[0.125,\"rgb(222,235,247)\"],[0.25,\"rgb(198,219,239)\"],[0.375,\"rgb(158,202,225)\"],[0.5,\"rgb(107,174,214)\"],[0.625,\"rgb(66,146,198)\"],[0.75,\"rgb(33,113,181)\"],[0.875,\"rgb(8,81,156)\"],[1.0,\"rgb(8,48,107)\"]],\"connectgaps\":true,\"contours\":{\"coloring\":\"heatmap\"},\"hoverinfo\":\"none\",\"line\":{\"smoothing\":1.3},\"reversescale\":false,\"x\":[0.8820136794288914,1.0460909213845584,2.4200027089991902,2.8086652250853947,4.5341804973464885,4.5988689706056265,5.921567526756637,7.350471851333009,8.23427294308399,8.504195387553908,10.765373340693216,11.560830933019414,14.31613892745546,15.048040635627752,17.899486531764893,20.600175369853275,24.148236972248696,30.11528717626823,31.72865613222137,37.63100267236293],\"y\":[1.1,2,6,7,8,9,11,13,14,16,17,18,19,20,20.9],\"z\":[[null,null,null,null,null,null,null,null,null,null,null,null,null,null,null,null,null,null,null,null],[null,null,null,0.96,null,null,null,null,null,null,null,null,null,null,null,null,0.94,null,null,null],[null,null,null,null,null,null,null,null,null,null,null,null,0.9533333333333333,null,null,null,null,null,null,null],[null,null,null,null,null,null,0.9666666666666667,null,null,null,null,null,null,null,null,null,null,null,null,null],[null,null,null,null,null,null,null,null,null,null,null,null,null,null,0.94,null,null,null,null,null],[null,null,null,null,null,null,null,null,null,null,null,null,null,null,null,0.96,null,null,null,null],[null,null,0.9466666666666667,null,null,null,null,null,null,null,null,null,null,null,null,null,null,0.9533333333333333,null,null],[null,null,null,null,null,null,null,null,null,null,0.9533333333333333,null,null,null,null,null,null,null,null,null],[null,null,null,null,null,null,null,null,0.94,null,null,0.9466666666666667,null,null,null,null,null,null,null,null],[null,null,null,null,0.96,null,null,null,null,0.9666666666666667,null,null,null,null,null,null,null,null,null,null],[null,null,null,null,null,null,null,0.9733333333333333,null,null,null,null,null,null,null,null,null,null,0.9666666666666667,null],[null,null,null,null,null,null,null,null,null,null,null,null,null,0.96,null,null,null,null,null,null],[null,null,null,null,null,0.96,null,null,null,null,null,null,null,null,null,null,null,null,null,null],[null,0.8733333333333334,null,null,null,null,null,null,null,null,null,null,null,null,null,null,null,null,null,null],[null,null,null,null,null,null,null,null,null,null,null,null,null,null,null,null,null,null,null,null]],\"type\":\"contour\"},{\"marker\":{\"color\":\"black\",\"line\":{\"color\":\"Grey\",\"width\":2.0}},\"mode\":\"markers\",\"showlegend\":false,\"x\":[15.048040635627752,24.148236972248696,4.5988689706056265,1.0460909213845584,30.11528717626823,10.765373340693216,8.23427294308399,14.31613892745546,4.5341804973464885,17.899486531764893,7.350471851333009,2.4200027089991902,8.504195387553908,5.921567526756637,2.8086652250853947,31.72865613222137,11.560830933019414,20.600175369853275],\"y\":[18,2,19,20,11,13,14,6,16,8,17,11,16,7,2,17,14,9],\"type\":\"scatter\"}],                        {\"title\":{\"text\":\"Contour Plot\"},\"template\":{\"data\":{\"histogram2dcontour\":[{\"type\":\"histogram2dcontour\",\"colorbar\":{\"outlinewidth\":0,\"ticks\":\"\"},\"colorscale\":[[0.0,\"#0d0887\"],[0.1111111111111111,\"#46039f\"],[0.2222222222222222,\"#7201a8\"],[0.3333333333333333,\"#9c179e\"],[0.4444444444444444,\"#bd3786\"],[0.5555555555555556,\"#d8576b\"],[0.6666666666666666,\"#ed7953\"],[0.7777777777777778,\"#fb9f3a\"],[0.8888888888888888,\"#fdca26\"],[1.0,\"#f0f921\"]]}],\"choropleth\":[{\"type\":\"choropleth\",\"colorbar\":{\"outlinewidth\":0,\"ticks\":\"\"}}],\"histogram2d\":[{\"type\":\"histogram2d\",\"colorbar\":{\"outlinewidth\":0,\"ticks\":\"\"},\"colorscale\":[[0.0,\"#0d0887\"],[0.1111111111111111,\"#46039f\"],[0.2222222222222222,\"#7201a8\"],[0.3333333333333333,\"#9c179e\"],[0.4444444444444444,\"#bd3786\"],[0.5555555555555556,\"#d8576b\"],[0.6666666666666666,\"#ed7953\"],[0.7777777777777778,\"#fb9f3a\"],[0.8888888888888888,\"#fdca26\"],[1.0,\"#f0f921\"]]}],\"heatmap\":[{\"type\":\"heatmap\",\"colorbar\":{\"outlinewidth\":0,\"ticks\":\"\"},\"colorscale\":[[0.0,\"#0d0887\"],[0.1111111111111111,\"#46039f\"],[0.2222222222222222,\"#7201a8\"],[0.3333333333333333,\"#9c179e\"],[0.4444444444444444,\"#bd3786\"],[0.5555555555555556,\"#d8576b\"],[0.6666666666666666,\"#ed7953\"],[0.7777777777777778,\"#fb9f3a\"],[0.8888888888888888,\"#fdca26\"],[1.0,\"#f0f921\"]]}],\"heatmapgl\":[{\"type\":\"heatmapgl\",\"colorbar\":{\"outlinewidth\":0,\"ticks\":\"\"},\"colorscale\":[[0.0,\"#0d0887\"],[0.1111111111111111,\"#46039f\"],[0.2222222222222222,\"#7201a8\"],[0.3333333333333333,\"#9c179e\"],[0.4444444444444444,\"#bd3786\"],[0.5555555555555556,\"#d8576b\"],[0.6666666666666666,\"#ed7953\"],[0.7777777777777778,\"#fb9f3a\"],[0.8888888888888888,\"#fdca26\"],[1.0,\"#f0f921\"]]}],\"contourcarpet\":[{\"type\":\"contourcarpet\",\"colorbar\":{\"outlinewidth\":0,\"ticks\":\"\"}}],\"contour\":[{\"type\":\"contour\",\"colorbar\":{\"outlinewidth\":0,\"ticks\":\"\"},\"colorscale\":[[0.0,\"#0d0887\"],[0.1111111111111111,\"#46039f\"],[0.2222222222222222,\"#7201a8\"],[0.3333333333333333,\"#9c179e\"],[0.4444444444444444,\"#bd3786\"],[0.5555555555555556,\"#d8576b\"],[0.6666666666666666,\"#ed7953\"],[0.7777777777777778,\"#fb9f3a\"],[0.8888888888888888,\"#fdca26\"],[1.0,\"#f0f921\"]]}],\"surface\":[{\"type\":\"surface\",\"colorbar\":{\"outlinewidth\":0,\"ticks\":\"\"},\"colorscale\":[[0.0,\"#0d0887\"],[0.1111111111111111,\"#46039f\"],[0.2222222222222222,\"#7201a8\"],[0.3333333333333333,\"#9c179e\"],[0.4444444444444444,\"#bd3786\"],[0.5555555555555556,\"#d8576b\"],[0.6666666666666666,\"#ed7953\"],[0.7777777777777778,\"#fb9f3a\"],[0.8888888888888888,\"#fdca26\"],[1.0,\"#f0f921\"]]}],\"mesh3d\":[{\"type\":\"mesh3d\",\"colorbar\":{\"outlinewidth\":0,\"ticks\":\"\"}}],\"scatter\":[{\"fillpattern\":{\"fillmode\":\"overlay\",\"size\":10,\"solidity\":0.2},\"type\":\"scatter\"}],\"parcoords\":[{\"type\":\"parcoords\",\"line\":{\"colorbar\":{\"outlinewidth\":0,\"ticks\":\"\"}}}],\"scatterpolargl\":[{\"type\":\"scatterpolargl\",\"marker\":{\"colorbar\":{\"outlinewidth\":0,\"ticks\":\"\"}}}],\"bar\":[{\"error_x\":{\"color\":\"#2a3f5f\"},\"error_y\":{\"color\":\"#2a3f5f\"},\"marker\":{\"line\":{\"color\":\"#E5ECF6\",\"width\":0.5},\"pattern\":{\"fillmode\":\"overlay\",\"size\":10,\"solidity\":0.2}},\"type\":\"bar\"}],\"scattergeo\":[{\"type\":\"scattergeo\",\"marker\":{\"colorbar\":{\"outlinewidth\":0,\"ticks\":\"\"}}}],\"scatterpolar\":[{\"type\":\"scatterpolar\",\"marker\":{\"colorbar\":{\"outlinewidth\":0,\"ticks\":\"\"}}}],\"histogram\":[{\"marker\":{\"pattern\":{\"fillmode\":\"overlay\",\"size\":10,\"solidity\":0.2}},\"type\":\"histogram\"}],\"scattergl\":[{\"type\":\"scattergl\",\"marker\":{\"colorbar\":{\"outlinewidth\":0,\"ticks\":\"\"}}}],\"scatter3d\":[{\"type\":\"scatter3d\",\"line\":{\"colorbar\":{\"outlinewidth\":0,\"ticks\":\"\"}},\"marker\":{\"colorbar\":{\"outlinewidth\":0,\"ticks\":\"\"}}}],\"scattermapbox\":[{\"type\":\"scattermapbox\",\"marker\":{\"colorbar\":{\"outlinewidth\":0,\"ticks\":\"\"}}}],\"scatterternary\":[{\"type\":\"scatterternary\",\"marker\":{\"colorbar\":{\"outlinewidth\":0,\"ticks\":\"\"}}}],\"scattercarpet\":[{\"type\":\"scattercarpet\",\"marker\":{\"colorbar\":{\"outlinewidth\":0,\"ticks\":\"\"}}}],\"carpet\":[{\"aaxis\":{\"endlinecolor\":\"#2a3f5f\",\"gridcolor\":\"white\",\"linecolor\":\"white\",\"minorgridcolor\":\"white\",\"startlinecolor\":\"#2a3f5f\"},\"baxis\":{\"endlinecolor\":\"#2a3f5f\",\"gridcolor\":\"white\",\"linecolor\":\"white\",\"minorgridcolor\":\"white\",\"startlinecolor\":\"#2a3f5f\"},\"type\":\"carpet\"}],\"table\":[{\"cells\":{\"fill\":{\"color\":\"#EBF0F8\"},\"line\":{\"color\":\"white\"}},\"header\":{\"fill\":{\"color\":\"#C8D4E3\"},\"line\":{\"color\":\"white\"}},\"type\":\"table\"}],\"barpolar\":[{\"marker\":{\"line\":{\"color\":\"#E5ECF6\",\"width\":0.5},\"pattern\":{\"fillmode\":\"overlay\",\"size\":10,\"solidity\":0.2}},\"type\":\"barpolar\"}],\"pie\":[{\"automargin\":true,\"type\":\"pie\"}]},\"layout\":{\"autotypenumbers\":\"strict\",\"colorway\":[\"#636efa\",\"#EF553B\",\"#00cc96\",\"#ab63fa\",\"#FFA15A\",\"#19d3f3\",\"#FF6692\",\"#B6E880\",\"#FF97FF\",\"#FECB52\"],\"font\":{\"color\":\"#2a3f5f\"},\"hovermode\":\"closest\",\"hoverlabel\":{\"align\":\"left\"},\"paper_bgcolor\":\"white\",\"plot_bgcolor\":\"#E5ECF6\",\"polar\":{\"bgcolor\":\"#E5ECF6\",\"angularaxis\":{\"gridcolor\":\"white\",\"linecolor\":\"white\",\"ticks\":\"\"},\"radialaxis\":{\"gridcolor\":\"white\",\"linecolor\":\"white\",\"ticks\":\"\"}},\"ternary\":{\"bgcolor\":\"#E5ECF6\",\"aaxis\":{\"gridcolor\":\"white\",\"linecolor\":\"white\",\"ticks\":\"\"},\"baxis\":{\"gridcolor\":\"white\",\"linecolor\":\"white\",\"ticks\":\"\"},\"caxis\":{\"gridcolor\":\"white\",\"linecolor\":\"white\",\"ticks\":\"\"}},\"coloraxis\":{\"colorbar\":{\"outlinewidth\":0,\"ticks\":\"\"}},\"colorscale\":{\"sequential\":[[0.0,\"#0d0887\"],[0.1111111111111111,\"#46039f\"],[0.2222222222222222,\"#7201a8\"],[0.3333333333333333,\"#9c179e\"],[0.4444444444444444,\"#bd3786\"],[0.5555555555555556,\"#d8576b\"],[0.6666666666666666,\"#ed7953\"],[0.7777777777777778,\"#fb9f3a\"],[0.8888888888888888,\"#fdca26\"],[1.0,\"#f0f921\"]],\"sequentialminus\":[[0.0,\"#0d0887\"],[0.1111111111111111,\"#46039f\"],[0.2222222222222222,\"#7201a8\"],[0.3333333333333333,\"#9c179e\"],[0.4444444444444444,\"#bd3786\"],[0.5555555555555556,\"#d8576b\"],[0.6666666666666666,\"#ed7953\"],[0.7777777777777778,\"#fb9f3a\"],[0.8888888888888888,\"#fdca26\"],[1.0,\"#f0f921\"]],\"diverging\":[[0,\"#8e0152\"],[0.1,\"#c51b7d\"],[0.2,\"#de77ae\"],[0.3,\"#f1b6da\"],[0.4,\"#fde0ef\"],[0.5,\"#f7f7f7\"],[0.6,\"#e6f5d0\"],[0.7,\"#b8e186\"],[0.8,\"#7fbc41\"],[0.9,\"#4d9221\"],[1,\"#276419\"]]},\"xaxis\":{\"gridcolor\":\"white\",\"linecolor\":\"white\",\"ticks\":\"\",\"title\":{\"standoff\":15},\"zerolinecolor\":\"white\",\"automargin\":true,\"zerolinewidth\":2},\"yaxis\":{\"gridcolor\":\"white\",\"linecolor\":\"white\",\"ticks\":\"\",\"title\":{\"standoff\":15},\"zerolinecolor\":\"white\",\"automargin\":true,\"zerolinewidth\":2},\"scene\":{\"xaxis\":{\"backgroundcolor\":\"#E5ECF6\",\"gridcolor\":\"white\",\"linecolor\":\"white\",\"showbackground\":true,\"ticks\":\"\",\"zerolinecolor\":\"white\",\"gridwidth\":2},\"yaxis\":{\"backgroundcolor\":\"#E5ECF6\",\"gridcolor\":\"white\",\"linecolor\":\"white\",\"showbackground\":true,\"ticks\":\"\",\"zerolinecolor\":\"white\",\"gridwidth\":2},\"zaxis\":{\"backgroundcolor\":\"#E5ECF6\",\"gridcolor\":\"white\",\"linecolor\":\"white\",\"showbackground\":true,\"ticks\":\"\",\"zerolinecolor\":\"white\",\"gridwidth\":2}},\"shapedefaults\":{\"line\":{\"color\":\"#2a3f5f\"}},\"annotationdefaults\":{\"arrowcolor\":\"#2a3f5f\",\"arrowhead\":0,\"arrowwidth\":1},\"geo\":{\"bgcolor\":\"white\",\"landcolor\":\"#E5ECF6\",\"subunitcolor\":\"white\",\"showland\":true,\"showlakes\":true,\"lakecolor\":\"white\"},\"title\":{\"x\":0.05},\"mapbox\":{\"style\":\"light\"}}},\"xaxis\":{\"title\":{\"text\":\"max_depth\"},\"range\":[-0.05452467920558022,1.5755457901846799],\"type\":\"log\"},\"yaxis\":{\"title\":{\"text\":\"n_estimators\"},\"range\":[1.1,20.9]}},                        {\"responsive\": true}                    ).then(function(){\n",
              "                            \n",
              "var gd = document.getElementById('7c12db7b-d32e-40fb-9ac7-0a3c4acc5190');\n",
              "var x = new MutationObserver(function (mutations, observer) {{\n",
              "        var display = window.getComputedStyle(gd).display;\n",
              "        if (!display || display === 'none') {{\n",
              "            console.log([gd, 'removed!']);\n",
              "            Plotly.purge(gd);\n",
              "            observer.disconnect();\n",
              "        }}\n",
              "}});\n",
              "\n",
              "// Listen for the removal of the full notebook cells\n",
              "var notebookContainer = gd.closest('#notebook-container');\n",
              "if (notebookContainer) {{\n",
              "    x.observe(notebookContainer, {childList: true});\n",
              "}}\n",
              "\n",
              "// Listen for the clearing of the current output cell\n",
              "var outputEl = gd.closest('.output');\n",
              "if (outputEl) {{\n",
              "    x.observe(outputEl, {childList: true});\n",
              "}}\n",
              "\n",
              "                        })                };                            </script>        </div>\n",
              "</body>\n",
              "</html>"
            ]
          },
          "metadata": {}
        }
      ],
      "source": [
        "optuna.visualization.plot_contour(study, params=['n_estimators', 'max_depth'])"
      ]
    }
  ],
  "metadata": {
    "kernelspec": {
      "display_name": "Python 3",
      "language": "python",
      "name": "python3"
    },
    "language_info": {
      "codemirror_mode": {
        "name": "ipython",
        "version": 3
      },
      "file_extension": ".py",
      "mimetype": "text/x-python",
      "name": "python",
      "nbconvert_exporter": "python",
      "pygments_lexer": "ipython3",
      "version": "3.7.4"
    },
    "colab": {
      "provenance": [],
      "toc_visible": true
    }
  },
  "nbformat": 4,
  "nbformat_minor": 0
}