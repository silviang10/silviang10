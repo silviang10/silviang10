{
  "cells": [
    {
      "cell_type": "markdown",
      "source": [
        "![TechnionLogo.png](data:image/png;base64,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)"
      ],
      "metadata": {
        "id": "fGYMkWLF1COO"
      }
    },
    {
      "cell_type": "markdown",
      "source": [
        "[![Open In Colab](https://colab.research.google.com/assets/colab-badge.svg)](https://colab.research.google.com/github/silviang10/silviang10/blob/master/tutorial4-Optimization.ipynb)"
      ],
      "metadata": {
        "id": "1uPokkaMuT4-"
      }
    },
    {
      "cell_type": "markdown",
      "metadata": {
        "id": "eZz7EQZDfPcR"
      },
      "source": [
        "# Optimization\n",
        "<img src=\"https://www.ruder.io/content/images/2016/09/saddle_point_evaluation_optimizers.gif\"/>"
      ]
    },
    {
      "cell_type": "markdown",
      "metadata": {
        "id": "JF5a0PkCfPcY"
      },
      "source": [
        "In this tutorial, we will cover:\n",
        "\n",
        "* Continuous Optimization\n",
        "    + Solving continuous optimization problems\n",
        "* Reminder: multivariate calculus\n",
        "* Gradient Descent\n",
        "    + Why does GD work?\n",
        "    + Selecting the learning rate\n",
        "    + What can go wrong?\n",
        "* Stochastic gradient descent\n",
        "* Advanced optimizers\n",
        "* Working example\n",
        "* PyTorch's optimization API - *torch.optim*\n",
        "* Learning rate scheduling\n",
        "* Projected Gradient Descent (PGD)\n",
        "    + Use case: adversarial attacks"
      ]
    },
    {
      "cell_type": "markdown",
      "metadata": {
        "id": "85WfNmVEfPcZ"
      },
      "source": [
        "## Continuous Optimization\n",
        "\n",
        "Continious optimization problems are fundumental in Computer Science.\n",
        "\n",
        "May be either unconstrained:\n",
        "$$ \\min_x f(x) $$\n",
        "$$ f: \\mathbb{R}^d \\rightarrow \\mathbb{R} $$\n",
        "Or constrained:\n",
        "$$ \\min_x f(x) \\text{ subject to } x \\in \\mathcal{K} $$\n",
        "$$ f: \\mathbb{R}^d \\rightarrow \\mathbb{R} \\text{, } \\mathcal{K} \\subseteq \\mathbb{R}^d \\text{ is closed and convex} $$"
      ]
    },
    {
      "cell_type": "markdown",
      "metadata": {
        "id": "QARHyfz2fPca"
      },
      "source": [
        "Many problems in CS can be written as a continous optimization problems:\n",
        "* Linear programs (LPs)\n",
        "\n",
        "<center><img src=\"https://upload.wikimedia.org/wikipedia/commons/thumb/e/ef/3dpoly.svg/220px-3dpoly.svg.png\"/></center>\n",
        "\n",
        "* Linear Regression:\n",
        "\n",
        "$$ \\min_w \\| Xw - y \\|^2 $$\n",
        "$$ \\text{where } X \\in \\mathbb{R}^{n \\times d}, y \\in \\mathbb{R}^n $$"
      ]
    },
    {
      "cell_type": "markdown",
      "metadata": {
        "id": "NpGvZA54fPca"
      },
      "source": [
        "* Hard SVMs:\n",
        "\n",
        "$$ \\min_{w,b} \\|w\\|^2 $$\n",
        "$$ \\text{subject to } y_i (w^T x_i-b) \\geq 1 $$\n",
        "\n",
        "* **Empirical risk minimization of deep models** \n",
        "\n",
        "<center><img src=\"https://www.fromthegenesis.com/wp-content/uploads/2018/06/Gradie_Desce.jpg\"/></center>"
      ]
    },
    {
      "cell_type": "markdown",
      "metadata": {
        "id": "zwVFiy88fPcb"
      },
      "source": [
        "### Solving Continious Optimization Problems\n",
        "\n",
        "In some cases, continious optimization problems may be solved analytically:\n",
        "* For unconstrained problems, search for stationary points.\n",
        "* For constrained problems, try applying Lagrange multipliers or KKT conditions.\n",
        "\n",
        "However, modern deep architectures include millions (sometimes billions) of parameters...\n",
        "the loss function is summed over all the dataset (**memory burden**)\n",
        "and the loss surface is often very noisy!\n",
        "\n",
        "Therefore, efficient iterative optimization algorithms are required!\n",
        "\n",
        "<center><img src=\"https://huggingface.co/blog/assets/33_large_language_models/01_model_size.jpg\"/ width=40%> </center>"
      ]
    },
    {
      "cell_type": "markdown",
      "metadata": {
        "id": "ZPheLElHfPcb"
      },
      "source": [
        "## Reminder: multivariate calculus\n",
        "\n",
        "We will be mainly interested in functions $f: \\mathbb{R}^d \\rightarrow \\mathbb{R}$.\n",
        "\n",
        "The generalization of the derivative in the multivariate case is denoted as the **gradient**, which is composed of the **partial derivatives**:\n",
        "$$ \\nabla_x f = (\\frac{\\partial f}{\\partial x_1},...,\\frac{\\partial f}{\\partial x_d}) \\in \\mathbb{R}^d $$\n",
        "\n",
        "The gradient gives us local information about the direction of the **largest ascent**:\n",
        "\n",
        "<center><img src=\"https://github.com/silviang10/silviang10/blob/main/imgs/paraboloid.png?raw=1\"/ height=70% width=70%> </center>\n",
        "\n",
        "If the gradient at some point $x \\in \\mathbb{R}^d$ is $\\vec{0}$ then $x$ is called a **stationary point**.\n",
        "\n",
        "<!---\n",
        "Redundant\n",
        "For functions with multiple outputs $f: \\mathbb{R}^d \\rightarrow \\mathbb{R^m}$ , the gradient is generalized to a **Jacobian**:\n",
        "\n",
        "$$ J_x(f) = \n",
        "\\begin{pmatrix}\n",
        "            \\frac{\\partial f_1}{\\partial x_1} & \\cdots & \\frac{\\partial f_1}{\\partial x_d} \\\\\n",
        "            \\vdots & \\ddots & \\vdots \\\\\n",
        "            \\frac{\\partial f_m}{\\partial x_1} & \\cdots & \\frac{\\partial f_m}{\\partial x_d} \\\\\n",
        "        \\end{pmatrix}\n",
        "\\in \\mathbb{R}^{m \\times d} $$\n",
        "-->"
      ]
    },
    {
      "cell_type": "markdown",
      "metadata": {
        "id": "dvryyvT8fPcc"
      },
      "source": [
        "The second derivative of a function $f: \\mathbb{R}^d \\rightarrow \\mathbb{R}$ is defined by computing the gradient of each of the partial derivatives.\n",
        "\n",
        "The resulting matrix is defined as the **Hessian** of $f$:\n",
        "$$\n",
        "\\nabla^2_x f = \n",
        "\\begin{pmatrix}\n",
        "            \\frac{\\partial^2 f}{\\partial x_1 \\partial x_1} & \\cdots & \\frac{\\partial^2 f}{\\partial x_1 \\partial x_d} \\\\\n",
        "            \\vdots & \\ddots & \\vdots \\\\\n",
        "            \\frac{\\partial^2 f}{\\partial x_d \\partial x_1} & \\cdots & \\frac{\\partial^2 f}{\\partial x_d \\partial x_d} \\\\\n",
        "        \\end{pmatrix}\n",
        "\\in \\mathbb{R}^{d \\times d} $$"
      ]
    },
    {
      "cell_type": "markdown",
      "metadata": {
        "id": "RsrsiDzOfPcc"
      },
      "source": [
        "## Gradient Descent\n",
        "\n",
        "* Iterative algorithm for solving continious optimization problems.\n",
        "* Exploit local information from the current guess to produce the next guess.\n",
        "* Idea: move along the anti-gradient direction of the currrent guess:\n",
        "\n",
        "$$ x_{k+1} = x_k - \\eta \\nabla_x f (x_k) $$\n",
        "\n",
        "We denote $ \\eta $, which determines the step size as the **learning rate**."
      ]
    },
    {
      "cell_type": "markdown",
      "metadata": {
        "id": "vfzKa6DefPcd"
      },
      "source": [
        "### Why does GD work?\n",
        "\n",
        "By using first order Taylor's approximation around $x_k$:\n",
        "$$ f(x_k + \\delta) = f(x_k) + \\nabla_x f(x_k)^T \\delta + o(\\| \\delta\\|)$$\n",
        "Substituting $\\delta = - \\eta \\nabla_x f (x_k)$:\n",
        "$$ f(x_{k+1}) = f(x_k) - \\eta \\| \\nabla_x f(x_k) \\|^2 + o(\\| \\delta\\|)$$\n",
        "If $x_k$ is not a stationary point, then for a small enough $\\eta > 0 $ we have that $f$ strictly decreases.\n",
        "This however **does not prove** that GD converges to a local minimum, but rather gives a motivation.\n",
        "The convergence analysis of GD is given in: https://courses.cs.washington.edu/courses/cse546/15au/lectures/lecture09_optimization.pdf."
      ]
    },
    {
      "cell_type": "markdown",
      "metadata": {
        "id": "2zlW1qQJfPcd"
      },
      "source": [
        "### Selecting the learning rate\n",
        "\n",
        "* Selecting the right learning rate is very important!\n",
        "* Selecting too small learning rate would yield to a very slow optimization process (\"**under-damped**\").\n",
        "* Selecting too large learning rate would yield to a jumpy process (\"**over-damped**\").\n",
        "* Selecting a very large learning rate would cause the optimization process to diverge!\n",
        "\n",
        "<center><img src=\"https://github.com/silviang10/silviang10/blob/main/imgs/lr.gif?raw=1\"> </center>"
      ]
    },
    {
      "cell_type": "markdown",
      "metadata": {
        "id": "n4T0mcf3fPcd"
      },
      "source": [
        "* What is the optimal learning rate?\n",
        "* For quadratic objectives, $\\eta_{opt} = \\frac{1}{\\lambda_{max}}$ where $\\lambda_{max}$ is the largest eigenvalue of the (constant) hessian matrix.\n",
        "* For general objectives, computing $\\lambda_{max}$ in every iteration is hard.\n",
        "* In practice: perform manual or black-box tuning.\n",
        "* Check out [optuna](https://optuna.org/)."
      ]
    },
    {
      "cell_type": "markdown",
      "metadata": {
        "id": "ZXudk2BxfPce"
      },
      "source": [
        "### What can go wrong?\n",
        "\n",
        "<center> <img src=\"https://nbviewer.org/github/vistalab-technion/cs236781-tutorials/blob/master/t01%20-%20linear%20models/imgs/sgd2d_2.png\" height=40%, width=40%%> </center>\n",
        "\n",
        "* The loss surface of DNNs is highly non-convex!\n",
        "* GD depends on initialization. May converge to a **local minimum** rather than a **global minimum**!\n",
        "* Another issue with GD is that it considers all the samples together (memory and computation burdens)!"
      ]
    },
    {
      "cell_type": "markdown",
      "metadata": {
        "id": "385Hxvx_fPce"
      },
      "source": [
        "## Stochastic Gradient Descent\n",
        "\n",
        "* In our case the optimization objective can be decomposed as a sum (mean) of objectives on each sample:\n",
        "$$ f(x) = \\frac{1}{n} \\sum_{i=1}^n f_i(x) $$\n",
        "* Recall that $n$ is very large.\n",
        "* Idea: sample an index, and compute the gradient on a single datum:\n",
        "$$ i \\leftarrow Uniform(\\{1,...,n\\}) $$\n",
        "$$ x_{k+1} \\leftarrow x_k - \\eta \\nabla f_i(x_k)$$\n",
        "* In expectation the gradient is exact! However, the variance is very high!\n",
        "* Optimization process becomes very noisy!"
      ]
    },
    {
      "cell_type": "markdown",
      "metadata": {
        "id": "PCQon9jgfPce"
      },
      "source": [
        "* Idea: instead of sampling a single datum, sample a **batch(mini-batch)** of samples.\n",
        "* In practice: shuffle the dataset and split it into **mini-batches**. Each iteration over the whole dataset is called an **epoch**.\n",
        "\n",
        "\n",
        "<center>\n",
        "<img src=\"https://www.baeldung.com/wp-content/uploads/sites/4/2022/01/batch-1-1024x670.png\" width=35% >\n",
        "</center>"
      ]
    },
    {
      "cell_type": "markdown",
      "metadata": {
        "id": "iD2WpkQgfPce"
      },
      "source": [
        "## Advanced optimizers\n",
        "\n",
        "* Heavy ball momentum\n",
        "    + Idea: accumulate velocity from prior iterations!\n",
        "    + Models the physics of a ball that is rolling downhill.\n",
        "    <center>\n",
        "    <img src=\"https://miro.medium.com/v2/resize:fit:640/1*zVi4ayX9u0MQQwa90CnxVg.gif\">\n",
        "    </center>\n",
        "    \n",
        "    + Momentum is modeled by an exponential moving average of the gradients in the prior steps:\n",
        "    \n",
        "  $$ v_{k+1} \\leftarrow \\gamma v_k + (1-\\gamma) g_k $$\n",
        "  $$ x_{k+1} \\leftarrow x_k - \\eta v_{k+1} $$\n"
      ]
    },
    {
      "cell_type": "markdown",
      "metadata": {
        "id": "Ot-UQc0-fPce"
      },
      "source": [
        "* AdaGrad\n",
        "    + Stands for Adaptive Gradient.\n",
        "    + Idea: the Hessian matrix may be very unbalanced, so use different effective learning rate for each parameter.\n",
        "    <center>\n",
        "    <img src=\"https://miro.medium.com/v2/resize:fit:1400/1*WRtvrr9Z0QcokiKlgU7xEw.gif\" width=40%>\n",
        "    </center>\n",
        "    \n",
        "    + Mathematically: \n",
        "  $$ G_{k+1} \\leftarrow G_k + g_k \\cdot g_k $$\n",
        "  $$ x_{k+1} \\leftarrow x_k - \\frac{\\eta}{\\sqrt{G_{k+1} + \\epsilon}} \\cdot g_k $$\n",
        "\n",
        "    + Note that in the above formulation $\\cdot$ multiplication and the division is done **elementwise**.\n",
        "    + $\\epsilon$ is added to the denominator for numerical stability.\n"
      ]
    },
    {
      "cell_type": "markdown",
      "metadata": {
        "id": "oq1LFhuTfPcf"
      },
      "source": [
        "* Rmsprop\n",
        "    + The problem of Adagrad is that the denominator keeps growing, and hence becomes very slow.\n",
        "    + The solution is to use an EMA of the squared gradients instead:\n",
        "\n",
        "  $$ v_{k+1} \\leftarrow \\beta v_k + (1-\\beta) g_k \\cdot g_k $$\n",
        "  $$ x_{k+1} \\leftarrow x_k - \\frac{\\eta}{\\sqrt{v_{k+1} + \\epsilon}} \\cdot g_k $$\n",
        "\n",
        "    <center>\n",
        "    <img src=\"https://miro.medium.com/v2/resize:fit:640/1*_4zyVpZazh4OSIzprmYQEw.gif\" width=40%>\n",
        "    </center>"
      ]
    },
    {
      "cell_type": "markdown",
      "metadata": {
        "id": "gfTPGFgAfPcf"
      },
      "source": [
        "* Adam\n",
        "    + Stands for Adaptive Moment Estimation.\n",
        "    + Essentially a combination of momentum and rmsprop:\n",
        "  $$ m_{k+1} \\leftarrow \\beta_1 m_k + (1-\\beta_1) g_k $$\n",
        "  $$ v_{k+1} \\leftarrow \\beta_2 v_k + (1-\\beta_2) g_k \\cdot g_k $$\n",
        "  $$ \\hat{m}_{k+1} \\leftarrow \\frac{m_{k+1}}{1-\\beta_1^{k+1}}, \\quad \\hat{v}_{k+1} \\leftarrow \\frac{v_{k+1}}{1-\\beta_2^{k+1}} $$\n",
        "  $$ x_{k+1} \\leftarrow x_k - \\frac{\\eta}{\\sqrt{\\hat{v}_{k+1} + \\epsilon}} \\cdot \\hat{m}_{k+1} $$\n",
        "    + The most common optimizer today."
      ]
    },
    {
      "cell_type": "markdown",
      "metadata": {
        "id": "pNWL1QlFfPcf"
      },
      "source": [
        "* Which optimizer to use?\n",
        "    + Adam would be a good place to start.\n",
        "    + However, **for some tasks it is better to use other optimizers**.\n",
        "    + For instance, simple SGD with momentum works the best for optimizing ResNet!"
      ]
    },
    {
      "cell_type": "markdown",
      "metadata": {
        "id": "0PL2MVbLfPcf"
      },
      "source": [
        "## Working example\n",
        "\n",
        "Let's demonstrate SGD for training a simple MLP architecture for performing hand-written digit recognition."
      ]
    },
    {
      "cell_type": "code",
      "execution_count": null,
      "metadata": {
        "id": "gVVJuSSrfPcg"
      },
      "outputs": [],
      "source": [
        "# Imports\n",
        "import torch\n",
        "from torchvision import datasets, transforms\n",
        "import torch.nn as nn\n",
        "import matplotlib.pyplot as plt"
      ]
    },
    {
      "cell_type": "code",
      "execution_count": null,
      "metadata": {
        "id": "PUO0da3AfPch"
      },
      "outputs": [],
      "source": [
        "# Define an MLP architecture\n",
        "class Net(nn.Module):\n",
        "    \n",
        "    def __init__(self):\n",
        "        super(Net, self).__init__()\n",
        "        self.in_dim = 784\n",
        "        self.hidden_dim = 120\n",
        "        self.out_dim = 10\n",
        "\n",
        "        self.flatten = nn.Flatten() # (B,H,W) -> (B,D)\n",
        "        self.linear = nn.Linear(self.in_dim, self.hidden_dim)\n",
        "        self.activation = nn.ReLU()\n",
        "        self.classifier = nn.Linear(self.hidden_dim, self.out_dim)\n",
        "\n",
        "    def forward(self, x):\n",
        "        x = self.flatten(x)\n",
        "        x = self.linear(x)\n",
        "        x = self.activation(x)\n",
        "        x = self.classifier(x)\n",
        "        return x\n",
        "    \n",
        "model = Net() # Instantiate model"
      ]
    },
    {
      "cell_type": "code",
      "execution_count": null,
      "metadata": {
        "id": "8UFa11lQfPch",
        "outputId": "f776a2bf-0c68-4fc6-c1fd-1dfc7d4d31e5",
        "colab": {
          "base_uri": "https://localhost:8080/"
        }
      },
      "outputs": [
        {
          "output_type": "stream",
          "name": "stdout",
          "text": [
            "Downloading http://yann.lecun.com/exdb/mnist/train-images-idx3-ubyte.gz\n",
            "Downloading http://yann.lecun.com/exdb/mnist/train-images-idx3-ubyte.gz to ./data/MNIST/raw/train-images-idx3-ubyte.gz\n"
          ]
        },
        {
          "output_type": "stream",
          "name": "stderr",
          "text": [
            "100%|██████████| 9912422/9912422 [00:00<00:00, 221666193.45it/s]"
          ]
        },
        {
          "output_type": "stream",
          "name": "stdout",
          "text": [
            "Extracting ./data/MNIST/raw/train-images-idx3-ubyte.gz to ./data/MNIST/raw\n"
          ]
        },
        {
          "output_type": "stream",
          "name": "stderr",
          "text": [
            "\n"
          ]
        },
        {
          "output_type": "stream",
          "name": "stdout",
          "text": [
            "\n",
            "Downloading http://yann.lecun.com/exdb/mnist/train-labels-idx1-ubyte.gz\n",
            "Downloading http://yann.lecun.com/exdb/mnist/train-labels-idx1-ubyte.gz to ./data/MNIST/raw/train-labels-idx1-ubyte.gz\n"
          ]
        },
        {
          "output_type": "stream",
          "name": "stderr",
          "text": [
            "100%|██████████| 28881/28881 [00:00<00:00, 91769465.02it/s]\n"
          ]
        },
        {
          "output_type": "stream",
          "name": "stdout",
          "text": [
            "Extracting ./data/MNIST/raw/train-labels-idx1-ubyte.gz to ./data/MNIST/raw\n",
            "\n",
            "Downloading http://yann.lecun.com/exdb/mnist/t10k-images-idx3-ubyte.gz\n",
            "Downloading http://yann.lecun.com/exdb/mnist/t10k-images-idx3-ubyte.gz to ./data/MNIST/raw/t10k-images-idx3-ubyte.gz\n"
          ]
        },
        {
          "output_type": "stream",
          "name": "stderr",
          "text": [
            "100%|██████████| 1648877/1648877 [00:00<00:00, 72276185.86it/s]"
          ]
        },
        {
          "output_type": "stream",
          "name": "stdout",
          "text": [
            "Extracting ./data/MNIST/raw/t10k-images-idx3-ubyte.gz to ./data/MNIST/raw\n",
            "\n",
            "Downloading http://yann.lecun.com/exdb/mnist/t10k-labels-idx1-ubyte.gz\n"
          ]
        },
        {
          "output_type": "stream",
          "name": "stderr",
          "text": [
            "\n"
          ]
        },
        {
          "output_type": "stream",
          "name": "stdout",
          "text": [
            "Downloading http://yann.lecun.com/exdb/mnist/t10k-labels-idx1-ubyte.gz to ./data/MNIST/raw/t10k-labels-idx1-ubyte.gz\n"
          ]
        },
        {
          "output_type": "stream",
          "name": "stderr",
          "text": [
            "100%|██████████| 4542/4542 [00:00<00:00, 5110120.38it/s]"
          ]
        },
        {
          "output_type": "stream",
          "name": "stdout",
          "text": [
            "Extracting ./data/MNIST/raw/t10k-labels-idx1-ubyte.gz to ./data/MNIST/raw\n",
            "\n"
          ]
        },
        {
          "output_type": "stream",
          "name": "stderr",
          "text": [
            "\n"
          ]
        }
      ],
      "source": [
        "# Define the training dataset\n",
        "transform = transforms.Compose([\n",
        "            transforms.ToTensor(), # Convert to tensor\n",
        "            transforms.Normalize((0.1307,), (0.3081,)) # Subtract from values 0.13 then divide by 0.31\n",
        "            ])\n",
        "\n",
        "dataset = datasets.MNIST('./data', train=True, download=True, transform=transform) # MNIST train set"
      ]
    },
    {
      "cell_type": "code",
      "execution_count": null,
      "metadata": {
        "id": "BoGNvxayfPci"
      },
      "outputs": [],
      "source": [
        "# Define dataloader \n",
        "batch_size = 64\n",
        "loader = torch.utils.data.DataLoader(dataset, batch_size=batch_size, shuffle=True) # Different order in each epoch"
      ]
    },
    {
      "cell_type": "markdown",
      "metadata": {
        "id": "IESJzmH1fPci"
      },
      "source": [
        "On each batch, optimization can be summarized as follows:\n",
        "* Loss computation on the current batch.\n",
        "* Loss gradient computation w.r.t each of the model params.\n",
        "* perfrom SGD step."
      ]
    },
    {
      "cell_type": "code",
      "execution_count": null,
      "metadata": {
        "scrolled": true,
        "id": "bEagG8mxfPci"
      },
      "outputs": [],
      "source": [
        "# Actual Training loop\n",
        "num_epochs = 1\n",
        "lr = 1e-1\n",
        "loss_fn = nn.CrossEntropyLoss()\n",
        "losses = [] # For plotting\n",
        "\n",
        "model.train() # Training mode\n",
        "for epoch in range(num_epochs):\n",
        "    for batch_idx, (x, y) in enumerate(loader):\n",
        "\n",
        "        # 1. Compute loss    \n",
        "        logits = model(x)\n",
        "        loss = loss_fn(logits, y)\n",
        "\n",
        "        # 2. Magically compute gradient\n",
        "        grad = torch.autograd.grad(loss, model.parameters())\n",
        "\n",
        "        # 3. Perform optimization step\n",
        "        for param, g in zip(model.parameters(), grad):\n",
        "            param.grad = g\n",
        "            param.data -= lr * param.grad\n",
        "\n",
        "        losses.append(loss.item())"
      ]
    },
    {
      "cell_type": "markdown",
      "metadata": {
        "id": "VjvMYnWOfPci"
      },
      "source": [
        "Lets plot the loss over time!"
      ]
    },
    {
      "cell_type": "code",
      "execution_count": null,
      "metadata": {
        "id": "us1uOBZjfPci",
        "outputId": "476450e0-1ec9-4f96-bd22-ca4f379354d7",
        "colab": {
          "base_uri": "https://localhost:8080/",
          "height": 447
        }
      },
      "outputs": [
        {
          "output_type": "execute_result",
          "data": {
            "text/plain": [
              "[<matplotlib.lines.Line2D at 0x7f8f0a4afe80>]"
            ]
          },
          "metadata": {},
          "execution_count": 6
        },
        {
          "output_type": "display_data",
          "data": {
            "text/plain": [
              "<Figure size 640x480 with 1 Axes>"
            ],
            "image/png": "[encoded data removed]"
          },
          "metadata": {}
        }
      ],
      "source": [
        "plt.plot(losses)"
      ]
    },
    {
      "cell_type": "markdown",
      "metadata": {
        "id": "P38yKR3lfPcj"
      },
      "source": [
        "Let's see what happens when we decrease the batch size!"
      ]
    },
    {
      "cell_type": "code",
      "execution_count": null,
      "metadata": {
        "id": "nvLk-wJVfPcj"
      },
      "outputs": [],
      "source": [
        "# This time, let's try with a smaller batch size!\n",
        "\n",
        "model = Net() # re-initialize net\n",
        "\n",
        "# re-define dataloader \n",
        "batch_size = 16\n",
        "loader = torch.utils.data.DataLoader(dataset, batch_size=batch_size, shuffle=True)\n",
        "\n",
        "# Actual Training loop\n",
        "num_epochs = 1\n",
        "lr = 1e-1\n",
        "loss_fn = nn.CrossEntropyLoss()\n",
        "losses = [] # For plotting"
      ]
    },
    {
      "cell_type": "code",
      "execution_count": null,
      "metadata": {
        "id": "QYxjcCc0fPcj"
      },
      "outputs": [],
      "source": [
        "model.train() # Training mode\n",
        "for epoch in range(num_epochs):\n",
        "    for batch_idx, (x, y) in enumerate(loader):\n",
        "        \n",
        "        # 1. Compute loss    \n",
        "        logits = model(x)\n",
        "        loss = loss_fn(logits, y)\n",
        "        # 2. Magically compute gradient\n",
        "        grad = torch.autograd.grad(loss, model.parameters())\n",
        "        # 3. Perform optimization step\n",
        "        for param, g in zip(model.parameters(), grad):\n",
        "            param.grad = g\n",
        "            param.data -= lr * param.grad\n",
        "            \n",
        "        losses.append(loss.item())"
      ]
    },
    {
      "cell_type": "code",
      "execution_count": null,
      "metadata": {
        "id": "aidWEVzffPcj",
        "outputId": "ffe91c7b-d6f1-4844-aca6-6e02ac44c8ad",
        "colab": {
          "base_uri": "https://localhost:8080/",
          "height": 447
        }
      },
      "outputs": [
        {
          "output_type": "execute_result",
          "data": {
            "text/plain": [
              "[<matplotlib.lines.Line2D at 0x7f8f0a5041c0>]"
            ]
          },
          "metadata": {},
          "execution_count": 9
        },
        {
          "output_type": "display_data",
          "data": {
            "text/plain": [
              "<Figure size 640x480 with 1 Axes>"
            ],
            "image/png": "[encoded data removed]"
          },
          "metadata": {}
        }
      ],
      "source": [
        "plt.plot(losses)"
      ]
    },
    {
      "cell_type": "markdown",
      "metadata": {
        "id": "VMjkCGG_fPck"
      },
      "source": [
        "As we can observe, smaller batch yields to a more noisy optimization process.\n",
        "This is due to high gradient variance!"
      ]
    },
    {
      "cell_type": "markdown",
      "metadata": {
        "id": "X77MPMJ-fPck"
      },
      "source": [
        "## PyTorch's optimization API - *torch.optim*\n",
        "\n",
        "* For performing optimization with ease, PyTorch includes an optimization interface named torch.optim.\n",
        "* Supports numerous optimization algorithms!\n",
        "* We will demonstrate the API by replacing the above training procedure. "
      ]
    },
    {
      "cell_type": "code",
      "execution_count": null,
      "metadata": {
        "id": "1tS6vMvefPck"
      },
      "outputs": [],
      "source": [
        "from torch.optim import SGD"
      ]
    },
    {
      "cell_type": "code",
      "execution_count": null,
      "metadata": {
        "id": "EslkEJe4fPck"
      },
      "outputs": [],
      "source": [
        "model = Net() # re-initialize net\n",
        "batch_size = 64\n",
        "loader = torch.utils.data.DataLoader(dataset, batch_size=batch_size, shuffle=True) # re-define dataloader \n",
        "\n",
        "# define the optimizer\n",
        "optimizer = SGD(model.parameters(), lr=lr)\n",
        "\n",
        "model.train()\n",
        "for epoch in range(num_epochs):\n",
        "    for batch_idx, (x, y) in enumerate(loader):\n",
        "\n",
        "        # compute loss    \n",
        "        logits = model(x)\n",
        "        loss = loss_fn(logits, y)\n",
        "\n",
        "        # The three Musketeers!\n",
        "        optimizer.zero_grad() # sets p.grad = 0 for all params\n",
        "        loss.backward() # sets p.grad += dloss/dp\n",
        "        optimizer.step() # performs actual optimization step"
      ]
    },
    {
      "cell_type": "markdown",
      "metadata": {
        "id": "csmQbSgufPck"
      },
      "source": [
        "## Learning rate scheduling\n",
        "\n",
        "* Observation: loss surface drastically changes over time and so is the hessian.\n",
        "* Idea: change the learning rate over time.\n",
        "* The most common practice is to reduce the learning rate after few epochs.\n",
        "* Very useful in practice.\n",
        "* Schedulers are also supported by torch.optim library!\n",
        "\n",
        "<center>\n",
        "<img src=\"https://github.com/silviang10/silviang10/blob/main/imgs/scheduler.png?raw=1\" width=40%, height=40%>\n",
        "<center>"
      ]
    },
    {
      "cell_type": "code",
      "execution_count": null,
      "metadata": {
        "id": "Wlc5LiY1fPcl"
      },
      "outputs": [],
      "source": [
        "from torch.optim.lr_scheduler import MultiStepLR"
      ]
    },
    {
      "cell_type": "code",
      "execution_count": null,
      "metadata": {
        "id": "UWPdc7TifPcl",
        "outputId": "75f10405-064f-404b-a6b2-6b7c86523d1c",
        "colab": {
          "base_uri": "https://localhost:8080/"
        }
      },
      "outputs": [
        {
          "output_type": "stream",
          "name": "stdout",
          "text": [
            "Epoch [1/2] | Batch 300 | loss: 0.2614 | lr: 0.1000\n",
            "Epoch [1/2] | Batch 600 | loss: 0.2048 | lr: 0.1000\n",
            "Epoch [1/2] | Batch 900 | loss: 0.1132 | lr: 0.1000\n",
            "Epoch [2/2] | Batch 300 | loss: 0.1388 | lr: 0.0100\n",
            "Epoch [2/2] | Batch 600 | loss: 0.1058 | lr: 0.0100\n",
            "Epoch [2/2] | Batch 900 | loss: 0.1069 | lr: 0.0100\n"
          ]
        }
      ],
      "source": [
        "model = Net()\n",
        "num_epochs = 2\n",
        "\n",
        "# define the optimizer and the scheduler\n",
        "optimizer = SGD(model.parameters(), lr=lr)\n",
        "scheduler = MultiStepLR(optimizer, milestones=[1], gamma=0.1) # reduce lr by 0.1 after 1 epoch\n",
        "\n",
        "model.train()\n",
        "for epoch in range(num_epochs):\n",
        "    for batch_idx, (x, y) in enumerate(loader):\n",
        "\n",
        "        # compute loss    \n",
        "        logits = model(x)\n",
        "        loss = loss_fn(logits, y)\n",
        "\n",
        "        # The three Musketeers!\n",
        "        optimizer.zero_grad()\n",
        "        loss.backward()\n",
        "        optimizer.step()\n",
        "        if (batch_idx + 1) % 300 == 0:\n",
        "            print(f'Epoch [{epoch+1}/{num_epochs}] | Batch {batch_idx+1} | \\\n",
        "loss: {loss.item():.4f} | lr: {optimizer.param_groups[0][\"lr\"]:.4f}')\n",
        "        losses.append(loss.item())\n",
        "\n",
        "    # Inform the scheduler an epoch was done!\n",
        "    scheduler.step()"
      ]
    },
    {
      "cell_type": "markdown",
      "metadata": {
        "id": "5HKTcepjfPcl"
      },
      "source": [
        "Additional learning rate scheduling strategies include:\n",
        "* Cosine annealing:\n",
        "<center>\n",
        "<img src=\"https://miro.medium.com/v2/resize:fit:1400/1*9hiywbEuoVXz4iX2-BDGZQ.png\" width=30%>\n",
        "</center>\n",
        "\n",
        "* Learning rate warmup:\n",
        "<center>\n",
        "<img src=\"https://huggingface.co/datasets/huggingface/documentation-images/resolve/main/warmup_cosine_schedule.png\">\n",
        "</center>"
      ]
    },
    {
      "cell_type": "markdown",
      "metadata": {
        "id": "6d8Vet-sfPcl"
      },
      "source": [
        "## Projected Gradient Descent (PGD)\n",
        "\n",
        "* So far, we have been concerned with **unconstrained** optimization problems.\n",
        "* However, all of the above optimization algorithms may be generalized to **constrained** optimization problem of the following form:\n",
        "\n",
        "$$ \\min_x f(x) \\text{ subject to } x \\in \\mathcal{K} $$\n",
        "$$ f: \\mathbb{R}^d \\rightarrow \\mathbb{R} \\text{, } \\mathcal{K} \\subseteq \\mathbb{R}^d \\text{ is closed and convex} $$"
      ]
    },
    {
      "cell_type": "markdown",
      "metadata": {
        "id": "w9TJWC4AfPcl"
      },
      "source": [
        "* This is done by a simple-greedy agorithm named PGD.\n",
        "* The idea is to project $x$ onto $\\mathcal{K}$ after each iteration:\n",
        "$$ \\tilde{x}_{k+1} = x_k - \\eta \\nabla_x f (x_k) $$\n",
        "$$ x_{k+1} = \\Pi_\\mathcal{K}(\\tilde{x}_{k+1})$$\n",
        "* The algorithm can be proved to converge under the same conditions required for GD to converge!\n",
        "\n",
        "<center>\n",
        "<img src=\"https://qph.cf2.quoracdn.net/main-qimg-8311c35651e61b7b91e8918388946469\">\n",
        "</center>\n",
        "\n",
        "* Mathematically, the projection of a point onto a set is defined as the closest point to the original point within the set:\n",
        "$$ \\Pi_{\\mathcal{K}}(x) := \\arg \\min_y \\| y-x \\| \\text{ subject to } y \\in \\mathcal{K}$$"
      ]
    },
    {
      "cell_type": "markdown",
      "metadata": {
        "id": "YOctRzGtfPcl"
      },
      "source": [
        "* Common projections:\n",
        "    + A canonical sphere with radius $R$:\n",
        "    $$ \\Pi_{\\mathcal{B}(R)}(x) = \\min\\{\\frac{R}{\\| x \\|}, 1\\} \\cdot x $$\n",
        "    <center>\n",
        "    <img src=\"http://pi.math.cornell.edu/~dwh/books/eg99/Ch16/37850c60.jpg\" width=30%>\n",
        "    </center>\n",
        "    \n",
        "    + A linear subspace $W$:\n",
        "    $$ \\Pi_{W}(x) = \\sum_{i=1}^m \\langle x , \\; w_i \\rangle w_i $$\n",
        "    where $\\{ w_1, ..., w_m\\}$ is an orthonormal basis for $W$.\n",
        "\n",
        "    <center>\n",
        "    <img src=\"https://upload.wikimedia.org/wikipedia/commons/thumb/1/14/Linalg_projection_onto_plane.png/223px-Linalg_projection_onto_plane.png\" width=25%\n",
        "    </center>"
      ]
    },
    {
      "cell_type": "markdown",
      "metadata": {
        "id": "X57iehBrfPcl"
      },
      "source": [
        "### Use case: adversarial attacks\n",
        "\n",
        "* The goal is to find a small perturbation on a certain input, in a way which would cause the model to generate a wrong prediction.\n",
        "\n",
        "<center>\n",
        "<img src=\"https://i.stack.imgur.com/5rfe9.png\">\n",
        "</center>"
      ]
    },
    {
      "cell_type": "markdown",
      "metadata": {
        "id": "w3KpjDIVfPcm"
      },
      "source": [
        "* Let's carry a PGD attack on a sample from the test dataset with respect to our trained model!"
      ]
    },
    {
      "cell_type": "code",
      "execution_count": null,
      "metadata": {
        "id": "lVV02Fd4fPcm"
      },
      "outputs": [],
      "source": [
        "# Define the test dataset\n",
        "transform = transforms.Compose([\n",
        "            transforms.ToTensor(), # Convert to tensor\n",
        "            transforms.Normalize((0.1307,), (0.3081,)) # Subtract 0.13 then divide by 0.31\n",
        "            ])\n",
        "\n",
        "# MNIST test set\n",
        "dataset = datasets.MNIST('./data', train=False, download=True, transform=transform) \n",
        "sample_loader = torch.utils.data.DataLoader(dataset, batch_size=1, shuffle=False)\n",
        "sample, true_y = next(iter(sample_loader))\n",
        "sample = sample.detach()"
      ]
    },
    {
      "cell_type": "code",
      "execution_count": null,
      "metadata": {
        "id": "RbtNdIwXfPcm",
        "outputId": "dadb43ae-033f-40be-bb92-ffd463825f94",
        "colab": {
          "base_uri": "https://localhost:8080/",
          "height": 490
        }
      },
      "outputs": [
        {
          "output_type": "execute_result",
          "data": {
            "text/plain": [
              "Text(0.5, 1.0, 'Ground Truth: 7\\nPrediction: 7, confidence: 99.84%')"
            ]
          },
          "metadata": {},
          "execution_count": 15
        },
        {
          "output_type": "display_data",
          "data": {
            "text/plain": [
              "<Figure size 640x480 with 1 Axes>"
            ],
            "image/png": "[encoded data removed]"
          },
          "metadata": {}
        }
      ],
      "source": [
        "# Visualize the sample\n",
        "with torch.no_grad():\n",
        "    logit = model(sample)[0]\n",
        "    proba = torch.softmax(logit, dim=0)\n",
        "    pred = torch.argmax(proba)\n",
        "\n",
        "fig = plt.figure()\n",
        "plt.imshow(sample.reshape(28,28), cmap='gray', interpolation='none')\n",
        "plt.title(\"Ground Truth: {}\\nPrediction: {}, confidence: {:.2f}%\". \\\n",
        "          format(true_y.item(), pred, proba[pred]*100))"
      ]
    },
    {
      "cell_type": "code",
      "execution_count": null,
      "metadata": {
        "id": "sGkjPUHafPcm",
        "outputId": "2cc997bd-c1e9-4595-f1ce-6e9cc8df9320",
        "colab": {
          "base_uri": "https://localhost:8080/"
        }
      },
      "outputs": [
        {
          "output_type": "stream",
          "name": "stdout",
          "text": [
            "Iteration [1000] | loss: 0.0028\n",
            "Iteration [2000] | loss: 0.0168\n",
            "Iteration [3000] | loss: 7.0017\n",
            "Iteration [4000] | loss: 7.0019\n",
            "Iteration [5000] | loss: 7.0012\n",
            "Iteration [6000] | loss: 7.0029\n",
            "Iteration [7000] | loss: 7.0029\n",
            "Iteration [8000] | loss: 7.0023\n",
            "Iteration [9000] | loss: 7.0026\n",
            "Iteration [10000] | loss: 7.0021\n"
          ]
        }
      ],
      "source": [
        "attacked_sample = sample.clone()\n",
        "attacked_sample.requires_grad = True\n",
        "# maximize loss instead of minimizing it!\n",
        "adversarial_optimizer = SGD([attacked_sample], lr=1e-1, maximize=True)\n",
        "eps = 7\n",
        "n_iters = 10_000\n",
        "loss_fn = nn.CrossEntropyLoss()\n",
        "\n",
        "for iter_idx in range(n_iters):\n",
        "    logits = model(attacked_sample)\n",
        "    loss = loss_fn(logits, true_y)\n",
        "\n",
        "    # Gradient step\n",
        "    adversarial_optimizer.zero_grad()\n",
        "    loss.backward()\n",
        "    adversarial_optimizer.step()\n",
        "\n",
        "    # Projection!\n",
        "    delta = attacked_sample.data - sample.data\n",
        "    delta *= min(1,eps/torch.norm(delta))\n",
        "    attacked_sample.data = sample + delta\n",
        "\n",
        "    if (iter_idx + 1) % 1000 == 0:\n",
        "        print(f'Iteration [{iter_idx+1}] | loss: {loss.item():.4f}')"
      ]
    },
    {
      "cell_type": "code",
      "execution_count": null,
      "metadata": {
        "id": "8c5cM3-nfPcm",
        "outputId": "6c6779b0-f456-455e-8400-ea4a21a0bfd9",
        "colab": {
          "base_uri": "https://localhost:8080/",
          "height": 490
        }
      },
      "outputs": [
        {
          "output_type": "execute_result",
          "data": {
            "text/plain": [
              "Text(0.5, 1.0, 'Ground Truth: 7\\nPrediction: 3, confidence: 99.56%')"
            ]
          },
          "metadata": {},
          "execution_count": 17
        },
        {
          "output_type": "display_data",
          "data": {
            "text/plain": [
              "<Figure size 640x480 with 1 Axes>"
            ],
            "image/png": "[encoded data removed]"
          },
          "metadata": {}
        }
      ],
      "source": [
        "# Visualize the attacked sample\n",
        "\n",
        "with torch.no_grad():\n",
        "    logit = model(attacked_sample)[0]\n",
        "    proba = torch.softmax(logit, dim=0)\n",
        "    pred = torch.argmax(proba)\n",
        "\n",
        "fig = plt.figure()\n",
        "plt.imshow(attacked_sample.detach().numpy().reshape(28,28), cmap='gray', interpolation='none')\n",
        "plt.title(\"Ground Truth: {}\\nPrediction: {}, confidence: {:.2f}%\" \\\n",
        "          .format(true_y.item(), pred, proba[pred]*100))"
      ]
    },
    {
      "cell_type": "markdown",
      "metadata": {
        "id": "FS5UB3yefPcn"
      },
      "source": [
        "* As can be observed the model mistakes with very high confidence on the perturbated sample.\n",
        "* However, it is clear that the ground truth is still the same!"
      ]
    },
    {
      "cell_type": "markdown",
      "metadata": {
        "id": "d4g90e8pfPcn"
      },
      "source": [
        "## Credits\n",
        "\n",
        "* This tutorial was written by Mitchell Keren Taraday.\n",
        "* Image credits:\n",
        "    + [https://www.ruder.io/optimizing-gradient-descent/](https://www.ruder.io/optimizing-gradient-descent/)\n",
        "    + [https://upload.wikimedia.org/wikipedia/commons/thumb/e/ef/3dpoly.svg/1024px-3dpoly.svg.png](https://upload.wikimedia.org/wikipedia/commons/thumb/e/ef/3dpoly.svg/1024px-3dpoly.svg.png)\n",
        "    + [https://www.fromthegenesis.com/gradient-descent-part1/](https://www.fromthegenesis.com/gradient-descent-part1/)\n",
        "    + [https://huggingface.co/blog/assets/33_large_language_models/01_model_size.jpg](https://huggingface.co/blog/assets/33_large_language_models/01_model_size.jpg)\n",
        "    + [https://www.baeldung.com/wp-content/uploads/sites/4/2022/01/batch-1-1024x670.png](https://www.baeldung.com/wp-content/uploads/sites/4/2022/01/batch-1-1024x670.png)\n",
        "    + [https://towardsdatascience.com/a-visual-explanation-of-gradient-descent-methods-momentum-adagrad-rmsprop-adam-f898b102325c](https://towardsdatascience.com/a-visual-explanation-of-gradient-descent-methods-momentum-adagrad-rmsprop-adam-f898b102325c)\n",
        "    + [https://www.researchgate.net/publication/332709751_Data-Driven_Neuron_Allocation_for_Scale_Aggregation_Networks](https://www.researchgate.net/publication/332709751_Data-Driven_Neuron_Allocation_for_Scale_Aggregation_Networks)\n",
        "    + [https://towardsdatascience.com/the-best-learning-rate-schedules-6b7b9fb72565](https://towardsdatascience.com/the-best-learning-rate-schedules-6b7b9fb72565)\n",
        "    + [https://huggingface.co/datasets/huggingface/documentation-images/resolve/main/warmup_cosine_schedule.png](https://huggingface.co/datasets/huggingface/documentation-images/resolve/main/warmup_cosine_schedule.png)\n",
        "    + [https://home.ttic.edu/~nati/Teaching/TTIC31070/2015/Lecture16.pdf](https://home.ttic.edu/~nati/Teaching/TTIC31070/2015/Lecture16.pdf)\n",
        "    + [https://upload.wikimedia.org/wikipedia/commons/thumb/1/14/Linalg_projection_onto_plane.png/223px-Linalg_projection_onto_plane.png](https://upload.wikimedia.org/wikipedia/commons/thumb/1/14/Linalg_projection_onto_plane.png/223px-Linalg_projection_onto_plane.png)\n",
        "    + [https://upload.wikimedia.org/wikipedia/commons/thumb/1/14/Linalg_projection_onto_plane.png/223px-Linalg_projection_onto_plane.png](https://upload.wikimedia.org/wikipedia/commons/thumb/1/14/Linalg_projection_onto_plane.png/223px-Linalg_projection_onto_plane.png)\n",
        "    + [https://i.stack.imgur.com/5rfe9.png](https://i.stack.imgur.com/5rfe9.png)\n",
        "    + [http://www.cohennadav.com/files/icermw19_slides.pdf](http://www.cohennadav.com/files/icermw19_slides.pdf)"
      ]
    }
  ],
  "metadata": {
    "celltoolbar": "Slideshow",
    "kernelspec": {
      "display_name": "Python 3 (ipykernel)",
      "language": "python",
      "name": "python3"
    },
    "language_info": {
      "codemirror_mode": {
        "name": "ipython",
        "version": 3
      },
      "file_extension": ".py",
      "mimetype": "text/x-python",
      "name": "python",
      "nbconvert_exporter": "python",
      "pygments_lexer": "ipython3",
      "version": "3.8.8"
    },
    "colab": {
      "provenance": [],
      "toc_visible": true,
      "machine_shape": "hm",
      "gpuType": "V100"
    },
    "accelerator": "GPU",
    "gpuClass": "standard"
  },
  "nbformat": 4,
  "nbformat_minor": 0
}